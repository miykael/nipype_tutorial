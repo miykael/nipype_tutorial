{
 "cells": [
  {
   "cell_type": "markdown",
   "metadata": {
    "deletable": true,
    "editable": true
   },
   "source": [
    "# Execution Configuration Options\n",
    "\n",
    "Nipype gives you many liberties on how to create workflows, but the execution of them uses a lot of default parameters. But you have of course all the freedom to change them as you like.\n",
    "\n",
    "Nipype looks for the configuration options in the local folder under the name ``nipype.cfg`` and in ``~/.nipype/nipype.cfg`` (in this order). It can be divided into **Logging** and **Execution** options. A few of the possible options are the following:\n",
    "\n",
    "### Logging\n",
    "\n",
    "- **workflow_level**: How detailed the logs regarding workflow should be\n",
    "- **log_to_file**: Indicates whether logging should also send the output to a file\n",
    "\n",
    "### Execution\n",
    "\n",
    "- **stop_on_first_crash**: Should the workflow stop upon first node crashing or try to execute as many nodes as possible?\n",
    "- **remove_unnecessary_outputs**: This will remove any interface outputs not needed by the workflow. If the required outputs from a node changes, rerunning the workflow will rerun the node. Outputs of leaf nodes (nodes whose outputs are not connected to any other nodes) will never be deleted independent of this parameter.\n",
    "- **use_relative_paths**: Should the paths stored in results (and used to look for inputs) be relative or absolute. Relative paths allow moving the whole working directory around but may cause problems with symlinks. \n",
    "- **job_finished_timeout**: When batch jobs are submitted through, SGE/PBS/Condor they could be killed externally. Nipype checks to see if a results file exists to determine if the node has completed. This timeout determines for how long this check is done after a job finish is detected. (float in seconds; default value: 5)\n",
    "- **poll_sleep_duration**: This controls how long the job submission loop will sleep between submitting all pending jobs and checking for job completion. To be nice to cluster schedulers the default is set to 2\n",
    "\n",
    "\n",
    "For the full list, see [Configuration File](http://nipype.readthedocs.io/en/latest/users/config_file.html)."
   ]
  },
  {
   "cell_type": "markdown",
   "metadata": {
    "deletable": true,
    "editable": true
   },
   "source": [
    "# Global, workflow & node level\n",
    "\n",
    "The configuration options can be changed globally (i.e. for all workflows), for just a workflow, or for just a node. The implementations look as follows (note that you should first create directories if you want to change `crashdump_dir` and `log_directory`):"
   ]
  },
  {
   "cell_type": "markdown",
   "metadata": {
    "deletable": true,
    "editable": true
   },
   "source": [
    "### At the global level:"
   ]
  },
  {
   "cell_type": "code",
   "execution_count": 1,
   "metadata": {
    "collapsed": false,
    "deletable": true,
    "editable": true
   },
   "outputs": [],
   "source": [
    "from nipype import config, logging\n",
    "import os\n",
    "os.makedirs('/output/log_folder', exist_ok=True)\n",
    "os.makedirs('/output/crash_folder', exist_ok=True)\n",
    "\n",
    "config_dict={'execution': {'remove_unnecessary_outputs': 'true',\n",
    "                           'keep_inputs': 'false',\n",
    "                           'poll_sleep_duration': '60',\n",
    "                           'stop_on_first_rerun': 'false',\n",
    "                           'hash_method': 'timestamp',\n",
    "                           'local_hash_check': 'true',\n",
    "                           'create_report': 'true',\n",
    "                           'crashdump_dir': '/output/crash_folder',\n",
    "                           'use_relative_paths': 'false',\n",
    "                           'job_finished_timeout': '5'},\n",
    "             'logging': {'workflow_level': 'INFO',\n",
    "                         'filemanip_level': 'INFO',\n",
    "                         'interface_level': 'INFO',\n",
    "                         'log_directory': '/output/log_folder',\n",
    "                         'log_to_file': 'true'}}\n",
    "config.update_config(config_dict)\n",
    "logging.update_logging(config)"
   ]
  },
  {
   "cell_type": "markdown",
   "metadata": {
    "deletable": true,
    "editable": true
   },
   "source": [
    "### At the workflow level:"
   ]
  },
  {
   "cell_type": "code",
   "execution_count": 2,
   "metadata": {
    "collapsed": true,
    "deletable": true,
    "editable": true
   },
   "outputs": [],
   "source": [
    "from nipype import Workflow\n",
    "wf = Workflow(name=\"config_test\")\n",
    "\n",
    "# Change execution parameters\n",
    "wf.config['execution']['stop_on_first_crash'] = 'true'\n",
    "\n",
    "# Change logging parameters\n",
    "wf.config['logging'] = {'workflow_level' : 'DEBUG',\n",
    "                        'filemanip_level' : 'DEBUG',\n",
    "                        'interface_level' : 'DEBUG',\n",
    "                        'log_to_file' : 'True',\n",
    "                        'log_directory' : '/output/log_folder'}"
   ]
  },
  {
   "cell_type": "markdown",
   "metadata": {
    "deletable": true,
    "editable": true
   },
   "source": [
    "### At the node level:"
   ]
  },
  {
   "cell_type": "code",
   "execution_count": 3,
   "metadata": {
    "collapsed": true,
    "deletable": true,
    "editable": true
   },
   "outputs": [],
   "source": [
    "from nipype import Node\n",
    "from nipype.interfaces.fsl import BET\n",
    "bet = Node(BET(), name=\"config_test\")\n",
    "\n",
    "bet.config = {'execution': {'keep_unnecessary_outputs': 'false'}}"
   ]
  }
 ],
 "metadata": {
  "anaconda-cloud": {},
  "kernelspec": {
   "display_name": "Python 3",
   "language": "python",
   "name": "python3"
  },
  "language_info": {
   "codemirror_mode": {
    "name": "ipython",
    "version": 3
   },
   "file_extension": ".py",
   "mimetype": "text/x-python",
   "name": "python",
   "nbconvert_exporter": "python",
   "pygments_lexer": "ipython3",
   "version": "3.6.2"
  }
 },
 "nbformat": 4,
 "nbformat_minor": 2
}
