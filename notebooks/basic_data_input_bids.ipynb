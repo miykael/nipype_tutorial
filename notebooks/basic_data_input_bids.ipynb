{
 "cells": [
  {
   "cell_type": "markdown",
   "metadata": {},
   "source": [
    "## Data input for BIDS datasets\n",
    "`DataGrabber` and `SelectFiles` are great if you are dealing with generic datasets with arbitrary organization. However, if you have decided to use Brain Imaging Data Structure (BIDS) to organize your data (or got your hands on a BIDS dataset) you can take advantage of a formal structure BIDS imposes. In this short tutorial, you will learn how to do this."
   ]
  },
  {
   "cell_type": "markdown",
   "metadata": {},
   "source": [
    "## `pybids` - a Python API for working with BIDS datasets\n",
    "`pybids` is a lightweight python API for querying BIDS folder structure for specific files and metadata. You can install it from PyPi:\n",
    "```\n",
    "pip install pybids\n",
    "```\n",
    "Please note it should be already installed in the tutorial Docker image."
   ]
  },
  {
   "cell_type": "markdown",
   "metadata": {},
   "source": [
    "## The `layout` object and simple queries\n",
    "To begin working with pybids we need to initialize a layout object. We will need it to do all of our queries"
   ]
  },
  {
   "cell_type": "code",
   "execution_count": null,
   "metadata": {},
   "outputs": [],
   "source": [
    "from bids.layout import BIDSLayout\n",
    "layout = BIDSLayout(\"/data/ds000114/\")"
   ]
  },
  {
   "cell_type": "code",
   "execution_count": null,
   "metadata": {},
   "outputs": [],
   "source": [
    "!tree -L 4 /data/ds000114/"
   ]
  },
  {
   "cell_type": "markdown",
   "metadata": {},
   "source": [
    "Let's figure out what are the subject labels in this dataset"
   ]
  },
  {
   "cell_type": "code",
   "execution_count": null,
   "metadata": {},
   "outputs": [],
   "source": [
    "layout.get_subjects()"
   ]
  },
  {
   "cell_type": "markdown",
   "metadata": {},
   "source": [
    "What datatypes are included in this dataset?"
   ]
  },
  {
   "cell_type": "code",
   "execution_count": null,
   "metadata": {},
   "outputs": [],
   "source": [
    "layout.get_datatypes()"
   ]
  },
  {
   "cell_type": "markdown",
   "metadata": {},
   "source": [
    "Which different data suffixes are included in this dataset?"
   ]
  },
  {
   "cell_type": "code",
   "execution_count": null,
   "metadata": {},
   "outputs": [],
   "source": [
    "layout.get_suffixes(datatype='func')"
   ]
  },
  {
   "cell_type": "markdown",
   "metadata": {},
   "source": [
    "What are the different tasks included in this dataset?"
   ]
  },
  {
   "cell_type": "code",
   "execution_count": null,
   "metadata": {},
   "outputs": [],
   "source": [
    "layout.get_tasks()"
   ]
  },
  {
   "cell_type": "markdown",
   "metadata": {},
   "source": [
    "We can also ask for all of the data for a particular subject and one datatype."
   ]
  },
  {
   "cell_type": "code",
   "execution_count": null,
   "metadata": {},
   "outputs": [],
   "source": [
    "layout.get(subject='01', datatype=\"anat\", session=\"test\")"
   ]
  },
  {
   "cell_type": "markdown",
   "metadata": {},
   "source": [
    "We can also ask for a specific subset of data. Note that we are using extension filter to get just the imaging data (BIDS allows both .nii and .nii.gz so we need to include both)."
   ]
  },
  {
   "cell_type": "code",
   "execution_count": null,
   "metadata": {},
   "outputs": [],
   "source": [
    "layout.get(subject='01', suffix='bold', extension=['.nii', '.nii.gz'])"
   ]
  },
  {
   "cell_type": "markdown",
   "metadata": {},
   "source": [
    "You probably noticed that this method does not only return the file paths, but objects with relevant query fields. We can easily extract just the file paths."
   ]
  },
  {
   "cell_type": "code",
   "execution_count": null,
   "metadata": {},
   "outputs": [],
   "source": [
    "layout.get(subject='01', suffix='bold', extension=['.nii', '.nii.gz'], return_type='file')"
   ]
  },
  {
   "cell_type": "markdown",
   "metadata": {},
   "source": [
    "### Exercise 1:\n",
    "List all files for the \"linebisection\" task for subject 02."
   ]
  },
  {
   "cell_type": "code",
   "execution_count": null,
   "metadata": {
    "solution2": "shown",
    "solution2_first": true
   },
   "outputs": [],
   "source": [
    "#write your solution here"
   ]
  },
  {
   "cell_type": "code",
   "execution_count": null,
   "metadata": {
    "solution2": "shown"
   },
   "outputs": [],
   "source": [
    "from bids.layout import BIDSLayout\n",
    "layout = BIDSLayout(\"/data/ds000114/\")\n",
    "\n",
    "layout.get(subject='02', return_type='file', task=\"linebisection\")"
   ]
  },
  {
   "cell_type": "markdown",
   "metadata": {},
   "source": [
    "## `BIDSDataGrabber`: Including `pybids` in your `nipype` workflow\n",
    "This is great, but what we really want is to include this into our nipype workflows. To do this, we can import `BIDSDataGrabber`, which provides an `Interface` for `BIDSLayout.get`"
   ]
  },
  {
   "cell_type": "code",
   "execution_count": null,
   "metadata": {},
   "outputs": [],
   "source": [
    "from nipype.interfaces.io import BIDSDataGrabber\n",
    "from nipype.pipeline import Node, MapNode, Workflow\n",
    "from nipype.interfaces.utility import Function\n",
    "\n",
    "bg = Node(BIDSDataGrabber(), name='bids-grabber')\n",
    "bg.inputs.base_dir = '/data/ds000114'"
   ]
  },
  {
   "cell_type": "markdown",
   "metadata": {},
   "source": [
    "You can define static filters, that will apply to all queries, by modifying the appropriate input"
   ]
  },
  {
   "cell_type": "code",
   "execution_count": null,
   "metadata": {},
   "outputs": [],
   "source": [
    "bg.inputs.subject = '01'\n",
    "res = bg.run()\n",
    "res.outputs"
   ]
  },
  {
   "cell_type": "markdown",
   "metadata": {},
   "source": [
    "Note that by default `BIDSDataGrabber` will fetch `nifti` files matching datatype `func` and `anat`, and output them as two output fields. \n",
    "\n",
    "To define custom fields, simply define the arguments to pass to `BIDSLayout.get` as dictionary, like so:"
   ]
  },
  {
   "cell_type": "code",
   "execution_count": null,
   "metadata": {},
   "outputs": [],
   "source": [
    "bg.inputs.output_query = {'bolds': dict(suffix='bold')}\n",
    "res = bg.run()\n",
    "res.outputs"
   ]
  },
  {
   "cell_type": "markdown",
   "metadata": {},
   "source": [
    "This results in a single output field `bold`, which returns all files with `suffix:bold` for `subject:\"01\"` \n",
    "\n",
    "Now, lets put it in a workflow. We are not going to analyze any data, but for demonstration purposes, we will add a couple of nodes that pretend to analyze their inputs"
   ]
  },
  {
   "cell_type": "code",
   "execution_count": null,
   "metadata": {},
   "outputs": [],
   "source": [
    "def printMe(paths):\n",
    "    print(\"\\n\\nanalyzing \" + str(paths) + \"\\n\\n\")\n",
    "    \n",
    "analyzeBOLD = Node(Function(function=printMe, input_names=[\"paths\"],\n",
    "                            output_names=[]), name=\"analyzeBOLD\")"
   ]
  },
  {
   "cell_type": "code",
   "execution_count": null,
   "metadata": {},
   "outputs": [],
   "source": [
    "wf = Workflow(name=\"bids_demo\")\n",
    "wf.connect(bg, \"bolds\", analyzeBOLD, \"paths\")\n",
    "wf.run()"
   ]
  },
  {
   "cell_type": "markdown",
   "metadata": {},
   "source": [
    "### Exercise 2:\n",
    "Modify the `BIDSDataGrabber` and the workflow to collect T1ws images for subject `10`."
   ]
  },
  {
   "cell_type": "code",
   "execution_count": null,
   "metadata": {
    "solution2": "shown",
    "solution2_first": true
   },
   "outputs": [],
   "source": [
    "# write your solution here"
   ]
  },
  {
   "cell_type": "code",
   "execution_count": null,
   "metadata": {
    "solution2": "shown"
   },
   "outputs": [],
   "source": [
    "from nipype.pipeline import Node, MapNode, Workflow\n",
    "from nipype.interfaces.io import BIDSDataGrabber\n",
    "\n",
    "ex2_BIDSDataGrabber = BIDSDataGrabber()\n",
    "ex2_BIDSDataGrabber.inputs.base_dir = '/data/ds000114'\n",
    "ex2_BIDSDataGrabber.inputs.subject = '10'\n",
    "ex2_BIDSDataGrabber.inputs.output_query = {'T1w': dict(datatype='anat')}\n",
    "\n",
    "ex2_res = ex2_BIDSDataGrabber.run()\n",
    "ex2_res.outputs"
   ]
  },
  {
   "cell_type": "markdown",
   "metadata": {},
   "source": [
    "## Iterating over subject labels\n",
    "In the previous example, we demonstrated how to use `pybids` to \"analyze\" one subject. How can we scale it for all subjects? Easy - using `iterables` (more in [Iteration/Iterables](basic_iteration.ipynb))."
   ]
  },
  {
   "cell_type": "code",
   "execution_count": null,
   "metadata": {},
   "outputs": [],
   "source": [
    "bg_all = Node(BIDSDataGrabber(), name='bids-grabber')\n",
    "bg_all.inputs.base_dir = '/data/ds000114'\n",
    "bg_all.inputs.output_query = {'bolds': dict(suffix='bold')}\n",
    "bg_all.iterables = ('subject', layout.get_subjects()[:2])\n",
    "wf = Workflow(name=\"bids_demo\")\n",
    "wf.connect(bg_all, \"bolds\", analyzeBOLD, \"paths\")\n",
    "wf.run()"
   ]
  },
  {
   "cell_type": "markdown",
   "metadata": {},
   "source": [
    "## Accessing additional metadata\n",
    "Querying different files is nice, but sometimes you want to access more metadata. For example `RepetitionTime`. `pybids` can help with that as well"
   ]
  },
  {
   "cell_type": "code",
   "execution_count": null,
   "metadata": {},
   "outputs": [],
   "source": [
    "layout.get_metadata('/data/ds000114/sub-01/ses-test/func/sub-01_ses-test_task-fingerfootlips_bold.nii.gz')"
   ]
  },
  {
   "cell_type": "markdown",
   "metadata": {},
   "source": [
    "Can we incorporate this into our pipeline? Yes, we can! To do so, let's use a `Function` node to use `BIDSLayout` in a custom way.\n",
    "(More about MapNode in [MapNode](basic_mapnodes.ipynb))"
   ]
  },
  {
   "cell_type": "code",
   "execution_count": null,
   "metadata": {},
   "outputs": [],
   "source": [
    "def printMetadata(path, data_dir):\n",
    "    from bids.layout import BIDSLayout\n",
    "    layout = BIDSLayout(data_dir)\n",
    "    print(\"\\n\\nanalyzing \" + path + \"\\nTR: \"+ str(layout.get_metadata(path)[\"RepetitionTime\"]) + \"\\n\\n\")\n",
    "    \n",
    "analyzeBOLD2 = MapNode(Function(function=printMetadata, input_names=[\"path\", \"data_dir\"],\n",
    "                             output_names=[]), name=\"analyzeBOLD2\", iterfield=\"path\")\n",
    "analyzeBOLD2.inputs.data_dir = \"/data/ds000114/\""
   ]
  },
  {
   "cell_type": "code",
   "execution_count": null,
   "metadata": {
    "scrolled": false
   },
   "outputs": [],
   "source": [
    "wf = Workflow(name=\"bids_demo\")\n",
    "wf.connect(bg, \"bolds\", analyzeBOLD2, \"path\")\n",
    "wf.run()"
   ]
  },
  {
   "cell_type": "markdown",
   "metadata": {},
   "source": [
    "### Exercise 3:\n",
    "Modify the `printMetadata` function to also print `EchoTime` "
   ]
  },
  {
   "cell_type": "code",
   "execution_count": null,
   "metadata": {
    "solution2": "shown",
    "solution2_first": true
   },
   "outputs": [],
   "source": [
    "# write your solution here"
   ]
  },
  {
   "cell_type": "code",
   "execution_count": null,
   "metadata": {
    "solution2": "shown"
   },
   "outputs": [],
   "source": [
    "from nipype.pipeline import Node, MapNode, Workflow\n",
    "from nipype.interfaces.io import BIDSDataGrabber\n",
    "\n",
    "ex3_BIDSDataGrabber = Node(BIDSDataGrabber(), name='bids-grabber')\n",
    "ex3_BIDSDataGrabber.inputs.base_dir = '/data/ds000114'\n",
    "ex3_BIDSDataGrabber.inputs.subject = '01'\n",
    "ex3_BIDSDataGrabber.inputs.output_query = {'bolds': dict(suffix='bold')}"
   ]
  },
  {
   "cell_type": "code",
   "execution_count": null,
   "metadata": {
    "solution2": "shown"
   },
   "outputs": [],
   "source": [
    "# and now modify analyzeBOLD2\n",
    "def printMetadata_et(path, data_dir):\n",
    "    from bids.layout import BIDSLayout\n",
    "    layout = BIDSLayout(data_dir)\n",
    "    print(\"\\n\\nanalyzing \" + path + \"\\nTR: \"+ \n",
    "          str(layout.get_metadata(path)[\"RepetitionTime\"]) +\n",
    "          \"\\nET: \"+ str(layout.get_metadata(path)[\"EchoTime\"])+ \"\\n\\n\")\n",
    "    \n",
    "ex3_analyzeBOLD2 = MapNode(Function(function=printMetadata_et, \n",
    "                                    input_names=[\"path\", \"data_dir\"],\n",
    "                                    output_names=[]), \n",
    "                           name=\"ex3\", iterfield=\"path\")\n",
    "ex3_analyzeBOLD2.inputs.data_dir = \"/data/ds000114/\"\n",
    "\n",
    "# and create a new workflow\n",
    "ex3_wf = Workflow(name=\"ex3\")\n",
    "ex3_wf.connect(ex3_BIDSDataGrabber, \"bolds\", ex3_analyzeBOLD2, \"path\")\n",
    "ex3_wf.run()"
   ]
  },
  {
   "cell_type": "code",
   "execution_count": null,
   "metadata": {},
   "outputs": [],
   "source": []
  }
 ],
 "metadata": {
  "kernelspec": {
   "display_name": "Python 3",
   "language": "python",
   "name": "python3"
  },
  "language_info": {
   "codemirror_mode": {
    "name": "ipython",
    "version": 3
   },
   "file_extension": ".py",
   "mimetype": "text/x-python",
   "name": "python",
   "nbconvert_exporter": "python",
   "pygments_lexer": "ipython3",
   "version": "3.6.7"
  }
 },
 "nbformat": 4,
 "nbformat_minor": 2
}
