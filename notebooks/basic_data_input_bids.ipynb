{
 "cells": [
  {
   "cell_type": "markdown",
   "metadata": {
    "deletable": true,
    "editable": true
   },
   "source": [
    "## Data input for BIDS datasets\n",
    "`DataGrabber` and `SelectFiles` are great if you are dealing with generic datasets with arbitrary organization. However if you have decided to use Brain Imaging Data Structure (BIDS) to organized your data (or got your hands on a BIDS dataset) you can take advanted of a formal structure BIDS imposes. In this short tutorial you will learn how to do this."
   ]
  },
  {
   "cell_type": "markdown",
   "metadata": {
    "deletable": true,
    "editable": true
   },
   "source": [
    "## `pybids` - a Python API for working with BIDS datasets\n",
    "`pybids` is a lightweight python API for querying BIDS folder structure for specific files and metadata. You can install it from PyPi:\n",
    "```\n",
    "pip install pybids\n",
    "```\n",
    "Please note it should be already installed in the tutorial Docker image."
   ]
  },
  {
   "cell_type": "markdown",
   "metadata": {
    "deletable": true,
    "editable": true
   },
   "source": [
    "## The `layout` object and simple queries\n",
    "To begin working with pubids we need to initalize a layout object. We will need it to do all of our queries"
   ]
  },
  {
   "cell_type": "code",
   "execution_count": 1,
   "metadata": {
    "collapsed": true,
    "deletable": true,
    "editable": true
   },
   "outputs": [
    {
     "name": "stderr",
     "output_type": "stream",
     "text": [
      "Failed to import duecredit due to No module named 'duecredit'\n"
     ]
    }
   ],
   "source": [
    "from bids.grabbids import BIDSLayout\n",
    "layout = BIDSLayout(\"/data/ds000114/\")"
   ]
  },
  {
   "cell_type": "code",
   "execution_count": 2,
   "metadata": {
    "collapsed": false
   },
   "outputs": [
    {
     "name": "stdout",
     "output_type": "stream",
     "text": [
      "/data/ds000114/\r\n",
      "├── CHANGES\r\n",
      "├── dataset_description.json\r\n",
      "├── derivatives\r\n",
      "│   ├── fmriprep\r\n",
      "│   └── freesurfer\r\n",
      "├── dwi.bval -> .git/annex/objects/JX/4K/MD5E-s335--5bd6fa32ccd0c79e79f9ac63a2c09c1a.bval/MD5E-s335--5bd6fa32ccd0c79e79f9ac63a2c09c1a.bval\r\n",
      "├── dwi.bvec -> .git/annex/objects/Pg/wk/MD5E-s1248--0641c68ff6ee6164928c984541653430.bvec/MD5E-s1248--0641c68ff6ee6164928c984541653430.bvec\r\n",
      "├── sub-01\r\n",
      "│   ├── ses-retest\r\n",
      "│   └── ses-test\r\n",
      "├── sub-02\r\n",
      "│   ├── ses-retest\r\n",
      "│   └── ses-test\r\n",
      "├── sub-03\r\n",
      "│   ├── ses-retest\r\n",
      "│   └── ses-test\r\n",
      "├── sub-04\r\n",
      "│   ├── ses-retest\r\n",
      "│   └── ses-test\r\n",
      "├── sub-05\r\n",
      "│   ├── ses-retest\r\n",
      "│   └── ses-test\r\n",
      "├── sub-06\r\n",
      "│   ├── ses-retest\r\n",
      "│   └── ses-test\r\n",
      "├── sub-07\r\n",
      "│   ├── ses-retest\r\n",
      "│   └── ses-test\r\n",
      "├── sub-08\r\n",
      "│   ├── ses-retest\r\n",
      "│   └── ses-test\r\n",
      "├── sub-09\r\n",
      "│   ├── ses-retest\r\n",
      "│   └── ses-test\r\n",
      "├── sub-10\r\n",
      "│   ├── ses-retest\r\n",
      "│   └── ses-test\r\n",
      "├── task-covertverbgeneration_bold.json\r\n",
      "├── task-covertverbgeneration_events.tsv\r\n",
      "├── task-fingerfootlips_bold.json\r\n",
      "├── task-fingerfootlips_events.tsv\r\n",
      "├── task-linebisection_bold.json\r\n",
      "├── task-overtverbgeneration_bold.json\r\n",
      "├── task-overtverbgeneration_events.tsv\r\n",
      "├── task-overtwordrepetition_bold.json\r\n",
      "└── task-overtwordrepetition_events.tsv\r\n",
      "\r\n",
      "33 directories, 13 files\r\n"
     ]
    }
   ],
   "source": [
    "!tree -L 2 /data/ds000114/"
   ]
  },
  {
   "cell_type": "markdown",
   "metadata": {
    "deletable": true,
    "editable": true
   },
   "source": [
    "Let's figure out what are the subject labels in this dataset"
   ]
  },
  {
   "cell_type": "code",
   "execution_count": 3,
   "metadata": {
    "collapsed": false,
    "deletable": true,
    "editable": true
   },
   "outputs": [
    {
     "data": {
      "text/plain": [
       "['01', '02', '03', '04', '05', '06', '07', '08', '09', '10']"
      ]
     },
     "execution_count": 3,
     "metadata": {},
     "output_type": "execute_result"
    }
   ],
   "source": [
    "layout.get_subjects()"
   ]
  },
  {
   "cell_type": "markdown",
   "metadata": {
    "deletable": true,
    "editable": true
   },
   "source": [
    "What modalities are included in this dataset?"
   ]
  },
  {
   "cell_type": "code",
   "execution_count": 4,
   "metadata": {
    "collapsed": false,
    "deletable": true,
    "editable": true
   },
   "outputs": [
    {
     "data": {
      "text/plain": [
       "['anat', 'dwi', 'func']"
      ]
     },
     "execution_count": 4,
     "metadata": {},
     "output_type": "execute_result"
    }
   ],
   "source": [
    "layout.get_modalities()"
   ]
  },
  {
   "cell_type": "markdown",
   "metadata": {
    "deletable": true,
    "editable": true
   },
   "source": [
    "What different data types are included in this dataset?"
   ]
  },
  {
   "cell_type": "code",
   "execution_count": 5,
   "metadata": {
    "collapsed": false,
    "deletable": true,
    "editable": true
   },
   "outputs": [
    {
     "data": {
      "text/plain": [
       "['31may2011',\n",
       " 'avg',\n",
       " 'avi',\n",
       " 'b12',\n",
       " 'bold',\n",
       " 'brainmask',\n",
       " 'brodmann',\n",
       " 'confounds',\n",
       " 'correct',\n",
       " 'description',\n",
       " 'dtissue',\n",
       " 'dwi',\n",
       " 'events',\n",
       " 'exvivo',\n",
       " 'flexibility',\n",
       " 'inflate',\n",
       " 'inflated',\n",
       " 'intensities',\n",
       " 'label',\n",
       " 'lh',\n",
       " 'lobes',\n",
       " 'midthickness',\n",
       " 'n1000',\n",
       " 'noccseg',\n",
       " 'normalize',\n",
       " 'nu',\n",
       " 'orbitofrontal',\n",
       " 'pial',\n",
       " 'practgivencomp',\n",
       " 'preproc',\n",
       " 'probtissue',\n",
       " 'pts',\n",
       " 'qa',\n",
       " 'register',\n",
       " 'rh',\n",
       " 'ribbon',\n",
       " 'smoothwm',\n",
       " 'specialization',\n",
       " 'specializationroi',\n",
       " 'sphere',\n",
       " 'surface',\n",
       " 'surfaces',\n",
       " 'sym',\n",
       " 'T1w',\n",
       " 'topology',\n",
       " 'topspecializationcomp',\n",
       " 'up',\n",
       " 'visuotopic',\n",
       " 'volume',\n",
       " 'vox2vox',\n",
       " 'wall',\n",
       " 'warp',\n",
       " 'white']"
      ]
     },
     "execution_count": 5,
     "metadata": {},
     "output_type": "execute_result"
    }
   ],
   "source": [
    "layout.get_types()"
   ]
  },
  {
   "cell_type": "code",
   "execution_count": 6,
   "metadata": {
    "collapsed": false,
    "deletable": true,
    "editable": true
   },
   "outputs": [
    {
     "data": {
      "text/plain": [
       "['bold', 'brainmask', 'confounds', 'events', 'preproc']"
      ]
     },
     "execution_count": 6,
     "metadata": {},
     "output_type": "execute_result"
    }
   ],
   "source": [
    "layout.get_types(modality='func')"
   ]
  },
  {
   "cell_type": "markdown",
   "metadata": {
    "deletable": true,
    "editable": true
   },
   "source": [
    "What are the different tasks included in this dataset?"
   ]
  },
  {
   "cell_type": "code",
   "execution_count": 7,
   "metadata": {
    "collapsed": false,
    "deletable": true,
    "editable": true
   },
   "outputs": [
    {
     "data": {
      "text/plain": [
       "['covertverbgeneration',\n",
       " 'fingerfootlips',\n",
       " 'linebisection',\n",
       " 'overtverbgeneration',\n",
       " 'overtwordrepetition']"
      ]
     },
     "execution_count": 7,
     "metadata": {},
     "output_type": "execute_result"
    }
   ],
   "source": [
    "layout.get_tasks()"
   ]
  },
  {
   "cell_type": "markdown",
   "metadata": {
    "deletable": true,
    "editable": true
   },
   "source": [
    "We can also ask for all of the data for a particular subject and one modality."
   ]
  },
  {
   "cell_type": "code",
   "execution_count": 8,
   "metadata": {
    "collapsed": false,
    "deletable": true,
    "editable": true
   },
   "outputs": [
    {
     "data": {
      "text/plain": [
       "[File(filename='/data/ds000114/sub-01/ses-test/anat/sub-01_ses-test_T1w.nii.gz', subject='01', session='test', type='T1w', modality='anat')]"
      ]
     },
     "execution_count": 8,
     "metadata": {},
     "output_type": "execute_result"
    }
   ],
   "source": [
    "layout.get(subject='01', modality=\"anat\", session=\"test\")"
   ]
  },
  {
   "cell_type": "markdown",
   "metadata": {
    "deletable": true,
    "editable": true
   },
   "source": [
    "We can also ask for a specific subset of data. Note that we are using extension filter to get just the imaging data (BIDS allows both .nii and .nii.gz so we need to include both)."
   ]
  },
  {
   "cell_type": "code",
   "execution_count": 9,
   "metadata": {
    "collapsed": false,
    "deletable": true,
    "editable": true
   },
   "outputs": [
    {
     "data": {
      "text/plain": [
       "[File(filename='/data/ds000114/sub-01/ses-retest/func/sub-01_ses-retest_task-covertverbgeneration_bold.nii.gz', subject='01', session='retest', type='bold', task='covertverbgeneration', modality='func'),\n",
       " File(filename='/data/ds000114/sub-01/ses-retest/func/sub-01_ses-retest_task-fingerfootlips_bold.nii.gz', subject='01', session='retest', type='bold', task='fingerfootlips', modality='func'),\n",
       " File(filename='/data/ds000114/sub-01/ses-retest/func/sub-01_ses-retest_task-linebisection_bold.nii.gz', subject='01', session='retest', type='bold', task='linebisection', modality='func'),\n",
       " File(filename='/data/ds000114/sub-01/ses-retest/func/sub-01_ses-retest_task-overtverbgeneration_bold.nii.gz', subject='01', session='retest', type='bold', task='overtverbgeneration', modality='func'),\n",
       " File(filename='/data/ds000114/sub-01/ses-retest/func/sub-01_ses-retest_task-overtwordrepetition_bold.nii.gz', subject='01', session='retest', type='bold', task='overtwordrepetition', modality='func'),\n",
       " File(filename='/data/ds000114/sub-01/ses-test/func/sub-01_ses-test_task-covertverbgeneration_bold.nii.gz', subject='01', session='test', type='bold', task='covertverbgeneration', modality='func'),\n",
       " File(filename='/data/ds000114/sub-01/ses-test/func/sub-01_ses-test_task-fingerfootlips_bold.nii.gz', subject='01', session='test', type='bold', task='fingerfootlips', modality='func'),\n",
       " File(filename='/data/ds000114/sub-01/ses-test/func/sub-01_ses-test_task-linebisection_bold.nii.gz', subject='01', session='test', type='bold', task='linebisection', modality='func'),\n",
       " File(filename='/data/ds000114/sub-01/ses-test/func/sub-01_ses-test_task-overtverbgeneration_bold.nii.gz', subject='01', session='test', type='bold', task='overtverbgeneration', modality='func'),\n",
       " File(filename='/data/ds000114/sub-01/ses-test/func/sub-01_ses-test_task-overtwordrepetition_bold.nii.gz', subject='01', session='test', type='bold', task='overtwordrepetition', modality='func')]"
      ]
     },
     "execution_count": 9,
     "metadata": {},
     "output_type": "execute_result"
    }
   ],
   "source": [
    "layout.get(subject='01', type='bold', extensions=['nii', 'nii.gz'])"
   ]
  },
  {
   "cell_type": "markdown",
   "metadata": {
    "deletable": true,
    "editable": true
   },
   "source": [
    "You probably noticed that this method does not only return the file paths, but objects with relevant query fields. We can easily extract just the file paths."
   ]
  },
  {
   "cell_type": "code",
   "execution_count": 10,
   "metadata": {
    "collapsed": false,
    "deletable": true,
    "editable": true
   },
   "outputs": [
    {
     "data": {
      "text/plain": [
       "['/data/ds000114/sub-01/ses-retest/func/sub-01_ses-retest_task-covertverbgeneration_bold.nii.gz',\n",
       " '/data/ds000114/sub-01/ses-retest/func/sub-01_ses-retest_task-fingerfootlips_bold.nii.gz',\n",
       " '/data/ds000114/sub-01/ses-retest/func/sub-01_ses-retest_task-linebisection_bold.nii.gz',\n",
       " '/data/ds000114/sub-01/ses-retest/func/sub-01_ses-retest_task-overtverbgeneration_bold.nii.gz',\n",
       " '/data/ds000114/sub-01/ses-retest/func/sub-01_ses-retest_task-overtwordrepetition_bold.nii.gz',\n",
       " '/data/ds000114/sub-01/ses-test/func/sub-01_ses-test_task-covertverbgeneration_bold.nii.gz',\n",
       " '/data/ds000114/sub-01/ses-test/func/sub-01_ses-test_task-fingerfootlips_bold.nii.gz',\n",
       " '/data/ds000114/sub-01/ses-test/func/sub-01_ses-test_task-linebisection_bold.nii.gz',\n",
       " '/data/ds000114/sub-01/ses-test/func/sub-01_ses-test_task-overtverbgeneration_bold.nii.gz',\n",
       " '/data/ds000114/sub-01/ses-test/func/sub-01_ses-test_task-overtwordrepetition_bold.nii.gz']"
      ]
     },
     "execution_count": 10,
     "metadata": {},
     "output_type": "execute_result"
    }
   ],
   "source": [
    "[f.filename for f in layout.get(subject='01', type='bold', extensions=['nii', 'nii.gz'])]"
   ]
  },
  {
   "cell_type": "markdown",
   "metadata": {},
   "source": [
    "### Exercise 1:\n",
    "List all files for the \"linebisection\" task for subject 02."
   ]
  },
  {
   "cell_type": "markdown",
   "metadata": {
    "deletable": true,
    "editable": true
   },
   "source": [
    "## Including `pybids` in your `nipype` workflow\n",
    "This is great, but what we really want is to include this into our `nipype` workflows. How to do this? We can create our own custom `BIDSDataGrabber` using a `Function` Interface. First we need a plain Python function that for a given subject label and dataset location will return list of BOLD files."
   ]
  },
  {
   "cell_type": "code",
   "execution_count": 11,
   "metadata": {
    "collapsed": false,
    "deletable": true,
    "editable": true
   },
   "outputs": [],
   "source": [
    "def get_niftis(subject_id, data_dir):\n",
    "    # Remember that all the necesary imports need to be INSIDE the function for the Function Interface to work!\n",
    "    from bids.grabbids import BIDSLayout\n",
    "    \n",
    "    layout = BIDSLayout(data_dir)\n",
    "    \n",
    "    bolds = [f.filename for f in layout.get(subject=subject_id, type=\"bold\", extensions=['nii', 'nii.gz'])]\n",
    "    \n",
    "    return bolds"
   ]
  },
  {
   "cell_type": "code",
   "execution_count": 12,
   "metadata": {
    "collapsed": false,
    "deletable": true,
    "editable": true
   },
   "outputs": [
    {
     "data": {
      "text/plain": [
       "['/data/ds000114/sub-01/ses-retest/func/sub-01_ses-retest_task-covertverbgeneration_bold.nii.gz',\n",
       " '/data/ds000114/sub-01/ses-retest/func/sub-01_ses-retest_task-fingerfootlips_bold.nii.gz',\n",
       " '/data/ds000114/sub-01/ses-retest/func/sub-01_ses-retest_task-linebisection_bold.nii.gz',\n",
       " '/data/ds000114/sub-01/ses-retest/func/sub-01_ses-retest_task-overtverbgeneration_bold.nii.gz',\n",
       " '/data/ds000114/sub-01/ses-retest/func/sub-01_ses-retest_task-overtwordrepetition_bold.nii.gz',\n",
       " '/data/ds000114/sub-01/ses-test/func/sub-01_ses-test_task-covertverbgeneration_bold.nii.gz',\n",
       " '/data/ds000114/sub-01/ses-test/func/sub-01_ses-test_task-fingerfootlips_bold.nii.gz',\n",
       " '/data/ds000114/sub-01/ses-test/func/sub-01_ses-test_task-linebisection_bold.nii.gz',\n",
       " '/data/ds000114/sub-01/ses-test/func/sub-01_ses-test_task-overtverbgeneration_bold.nii.gz',\n",
       " '/data/ds000114/sub-01/ses-test/func/sub-01_ses-test_task-overtwordrepetition_bold.nii.gz']"
      ]
     },
     "execution_count": 12,
     "metadata": {},
     "output_type": "execute_result"
    }
   ],
   "source": [
    "get_niftis('01', '/data/ds000114')"
   ]
  },
  {
   "cell_type": "markdown",
   "metadata": {
    "deletable": true,
    "editable": true
   },
   "source": [
    "Ok we got our function. Now we need to wrap it inside a Node object."
   ]
  },
  {
   "cell_type": "code",
   "execution_count": 13,
   "metadata": {
    "collapsed": true,
    "deletable": true,
    "editable": true
   },
   "outputs": [],
   "source": [
    "from nipype.pipeline import Node, MapNode, Workflow\n",
    "from nipype.interfaces.utility import IdentityInterface, Function"
   ]
  },
  {
   "cell_type": "code",
   "execution_count": 14,
   "metadata": {
    "collapsed": false,
    "deletable": true,
    "editable": true
   },
   "outputs": [],
   "source": [
    "BIDSDataGrabber = Node(Function(function=get_niftis, input_names=[\"subject_id\",\n",
    "                                       \"data_dir\"],\n",
    "                                   output_names=[\"bolds\"]), name=\"BIDSDataGrabber\")\n",
    "BIDSDataGrabber.inputs.data_dir = \"/data/ds000114\""
   ]
  },
  {
   "cell_type": "code",
   "execution_count": 15,
   "metadata": {
    "collapsed": false,
    "deletable": true,
    "editable": true
   },
   "outputs": [
    {
     "name": "stdout",
     "output_type": "stream",
     "text": [
      "170730-12:38:06,719 workflow INFO:\n",
      "\t Executing node BIDSDataGrabber in dir: /tmp/tmp1jrhegfx/BIDSDataGrabber\n"
     ]
    },
    {
     "data": {
      "text/plain": [
       "\n",
       "bolds = ['/data/ds000114/sub-01/ses-retest/func/sub-01_ses-retest_task-covertverbgeneration_bold.nii.gz', '/data/ds000114/sub-01/ses-retest/func/sub-01_ses-retest_task-fingerfootlips_bold.nii.gz', '/data/ds000114/sub-01/ses-retest/func/sub-01_ses-retest_task-linebisection_bold.nii.gz', '/data/ds000114/sub-01/ses-retest/func/sub-01_ses-retest_task-overtverbgeneration_bold.nii.gz', '/data/ds000114/sub-01/ses-retest/func/sub-01_ses-retest_task-overtwordrepetition_bold.nii.gz', '/data/ds000114/sub-01/ses-test/func/sub-01_ses-test_task-covertverbgeneration_bold.nii.gz', '/data/ds000114/sub-01/ses-test/func/sub-01_ses-test_task-fingerfootlips_bold.nii.gz', '/data/ds000114/sub-01/ses-test/func/sub-01_ses-test_task-linebisection_bold.nii.gz', '/data/ds000114/sub-01/ses-test/func/sub-01_ses-test_task-overtverbgeneration_bold.nii.gz', '/data/ds000114/sub-01/ses-test/func/sub-01_ses-test_task-overtwordrepetition_bold.nii.gz']"
      ]
     },
     "execution_count": 15,
     "metadata": {},
     "output_type": "execute_result"
    }
   ],
   "source": [
    "BIDSDataGrabber.inputs.subject_id='01'\n",
    "res = BIDSDataGrabber.run()\n",
    "res.outputs"
   ]
  },
  {
   "cell_type": "markdown",
   "metadata": {
    "deletable": true,
    "editable": true
   },
   "source": [
    "Works like a charm! (hopefully :) Lets put it in a workflow. We are not going to analyze any data, but for demostrantion purposes we will add a couple of nodes that pretend to analyze their inputs"
   ]
  },
  {
   "cell_type": "code",
   "execution_count": 16,
   "metadata": {
    "collapsed": false,
    "deletable": true,
    "editable": true
   },
   "outputs": [],
   "source": [
    "def printMe(paths):\n",
    "    print(\"\\n\\nanalyzing \" + str(paths) + \"\\n\\n\")\n",
    "    \n",
    "analyzeBOLD = Node(Function(function=printMe, input_names=[\"paths\"],\n",
    "                            output_names=[]), name=\"analyzeBOLD\")"
   ]
  },
  {
   "cell_type": "code",
   "execution_count": 17,
   "metadata": {
    "collapsed": false,
    "deletable": true,
    "editable": true,
    "scrolled": true
   },
   "outputs": [
    {
     "name": "stdout",
     "output_type": "stream",
     "text": [
      "170730-12:38:14,276 workflow INFO:\n",
      "\t Workflow bids_demo settings: ['check', 'execution', 'logging']\n",
      "170730-12:38:14,295 workflow INFO:\n",
      "\t Running serially.\n",
      "170730-12:38:14,296 workflow INFO:\n",
      "\t Executing node BIDSDataGrabber in dir: /tmp/tmpr1tk4bil/bids_demo/BIDSDataGrabber\n",
      "170730-12:38:23,796 workflow INFO:\n",
      "\t Executing node analyzeBOLD in dir: /tmp/tmpin5zrkxe/bids_demo/analyzeBOLD\n",
      "\n",
      "\n",
      "analyzing ['/data/ds000114/sub-01/ses-retest/func/sub-01_ses-retest_task-covertverbgeneration_bold.nii.gz', '/data/ds000114/sub-01/ses-retest/func/sub-01_ses-retest_task-fingerfootlips_bold.nii.gz', '/data/ds000114/sub-01/ses-retest/func/sub-01_ses-retest_task-linebisection_bold.nii.gz', '/data/ds000114/sub-01/ses-retest/func/sub-01_ses-retest_task-overtverbgeneration_bold.nii.gz', '/data/ds000114/sub-01/ses-retest/func/sub-01_ses-retest_task-overtwordrepetition_bold.nii.gz', '/data/ds000114/sub-01/ses-test/func/sub-01_ses-test_task-covertverbgeneration_bold.nii.gz', '/data/ds000114/sub-01/ses-test/func/sub-01_ses-test_task-fingerfootlips_bold.nii.gz', '/data/ds000114/sub-01/ses-test/func/sub-01_ses-test_task-linebisection_bold.nii.gz', '/data/ds000114/sub-01/ses-test/func/sub-01_ses-test_task-overtverbgeneration_bold.nii.gz', '/data/ds000114/sub-01/ses-test/func/sub-01_ses-test_task-overtwordrepetition_bold.nii.gz']\n",
      "\n",
      "\n"
     ]
    },
    {
     "data": {
      "text/plain": [
       "<networkx.classes.digraph.DiGraph at 0x7efca7967da0>"
      ]
     },
     "execution_count": 17,
     "metadata": {},
     "output_type": "execute_result"
    }
   ],
   "source": [
    "wf = Workflow(name=\"bids_demo\")\n",
    "wf.connect(BIDSDataGrabber, \"bolds\", analyzeBOLD, \"paths\")\n",
    "wf.run()"
   ]
  },
  {
   "cell_type": "markdown",
   "metadata": {},
   "source": [
    "### Exercise 2:\n",
    "Modify the `BIDSDataGrabber` and the workflow to include T1ws."
   ]
  },
  {
   "cell_type": "markdown",
   "metadata": {
    "deletable": true,
    "editable": true
   },
   "source": [
    "## Iterating over subject labels\n",
    "In the previous example we demostrated how to use `pybids` to \"analyze\" one subject. How can we scale it for all subjects? Easy - using `iterables` (more in [Iteration/Iterables](basic_iteration.ipynb)."
   ]
  },
  {
   "cell_type": "code",
   "execution_count": 18,
   "metadata": {
    "collapsed": false,
    "deletable": true,
    "editable": true,
    "scrolled": false
   },
   "outputs": [
    {
     "name": "stdout",
     "output_type": "stream",
     "text": [
      "170730-12:38:23,864 workflow INFO:\n",
      "\t Workflow bids_demo settings: ['check', 'execution', 'logging']\n",
      "170730-12:38:23,897 workflow INFO:\n",
      "\t Running serially.\n",
      "170730-12:38:23,900 workflow INFO:\n",
      "\t Executing node BIDSDataGrabber.aI.a1 in dir: /tmp/tmpulcre1g9/bids_demo/_subject_id_02/BIDSDataGrabber\n",
      "170730-12:38:32,981 workflow INFO:\n",
      "\t Executing node analyzeBOLD.a1 in dir: /tmp/tmp4a39jj34/bids_demo/_subject_id_02/analyzeBOLD\n",
      "\n",
      "\n",
      "analyzing ['/data/ds000114/sub-02/ses-retest/func/sub-02_ses-retest_task-covertverbgeneration_bold.nii.gz', '/data/ds000114/sub-02/ses-retest/func/sub-02_ses-retest_task-fingerfootlips_bold.nii.gz', '/data/ds000114/sub-02/ses-retest/func/sub-02_ses-retest_task-linebisection_bold.nii.gz', '/data/ds000114/sub-02/ses-retest/func/sub-02_ses-retest_task-overtverbgeneration_bold.nii.gz', '/data/ds000114/sub-02/ses-retest/func/sub-02_ses-retest_task-overtwordrepetition_bold.nii.gz', '/data/ds000114/sub-02/ses-test/func/sub-02_ses-test_task-covertverbgeneration_bold.nii.gz', '/data/ds000114/sub-02/ses-test/func/sub-02_ses-test_task-fingerfootlips_bold.nii.gz', '/data/ds000114/sub-02/ses-test/func/sub-02_ses-test_task-linebisection_bold.nii.gz', '/data/ds000114/sub-02/ses-test/func/sub-02_ses-test_task-overtverbgeneration_bold.nii.gz', '/data/ds000114/sub-02/ses-test/func/sub-02_ses-test_task-overtwordrepetition_bold.nii.gz']\n",
      "\n",
      "\n",
      "170730-12:38:33,18 workflow INFO:\n",
      "\t Executing node BIDSDataGrabber.aI.a0 in dir: /tmp/tmp9ts9xswn/bids_demo/_subject_id_01/BIDSDataGrabber\n",
      "170730-12:38:40,562 workflow INFO:\n",
      "\t Executing node analyzeBOLD.a0 in dir: /tmp/tmpgisb1nx2/bids_demo/_subject_id_01/analyzeBOLD\n",
      "\n",
      "\n",
      "analyzing ['/data/ds000114/sub-01/ses-retest/func/sub-01_ses-retest_task-covertverbgeneration_bold.nii.gz', '/data/ds000114/sub-01/ses-retest/func/sub-01_ses-retest_task-fingerfootlips_bold.nii.gz', '/data/ds000114/sub-01/ses-retest/func/sub-01_ses-retest_task-linebisection_bold.nii.gz', '/data/ds000114/sub-01/ses-retest/func/sub-01_ses-retest_task-overtverbgeneration_bold.nii.gz', '/data/ds000114/sub-01/ses-retest/func/sub-01_ses-retest_task-overtwordrepetition_bold.nii.gz', '/data/ds000114/sub-01/ses-test/func/sub-01_ses-test_task-covertverbgeneration_bold.nii.gz', '/data/ds000114/sub-01/ses-test/func/sub-01_ses-test_task-fingerfootlips_bold.nii.gz', '/data/ds000114/sub-01/ses-test/func/sub-01_ses-test_task-linebisection_bold.nii.gz', '/data/ds000114/sub-01/ses-test/func/sub-01_ses-test_task-overtverbgeneration_bold.nii.gz', '/data/ds000114/sub-01/ses-test/func/sub-01_ses-test_task-overtwordrepetition_bold.nii.gz']\n",
      "\n",
      "\n"
     ]
    },
    {
     "data": {
      "text/plain": [
       "<networkx.classes.digraph.DiGraph at 0x7efca75eb240>"
      ]
     },
     "execution_count": 18,
     "metadata": {},
     "output_type": "execute_result"
    }
   ],
   "source": [
    "BIDSDataGrabber.iterables = ('subject_id', layout.get_subjects()[:2])\n",
    "wf.run()"
   ]
  },
  {
   "cell_type": "markdown",
   "metadata": {
    "deletable": true,
    "editable": true
   },
   "source": [
    "## Accessing additional metadata\n",
    "Querying different files is nice, but sometimes you want to access more metadata. For example `RepetitionTime`. `pybids` can help with that as well"
   ]
  },
  {
   "cell_type": "code",
   "execution_count": 19,
   "metadata": {
    "collapsed": false,
    "deletable": true,
    "editable": true
   },
   "outputs": [
    {
     "data": {
      "text/plain": [
       "{'EchoTime': 0.05,\n",
       " 'FlipAngle': 90,\n",
       " 'RepetitionTime': 2.5,\n",
       " 'SliceTiming': [0.0,\n",
       "  1.2499999999999998,\n",
       "  0.08333333333333333,\n",
       "  1.333333333333333,\n",
       "  0.16666666666666666,\n",
       "  1.4166666666666663,\n",
       "  0.25,\n",
       "  1.4999999999999996,\n",
       "  0.3333333333333333,\n",
       "  1.5833333333333328,\n",
       "  0.41666666666666663,\n",
       "  1.666666666666666,\n",
       "  0.5,\n",
       "  1.7499999999999993,\n",
       "  0.5833333333333333,\n",
       "  1.8333333333333326,\n",
       "  0.6666666666666666,\n",
       "  1.9166666666666659,\n",
       "  0.75,\n",
       "  1.9999999999999991,\n",
       "  0.8333333333333333,\n",
       "  2.083333333333332,\n",
       "  0.9166666666666666,\n",
       "  2.1666666666666656,\n",
       "  1.0,\n",
       "  2.249999999999999,\n",
       "  1.0833333333333333,\n",
       "  2.333333333333332,\n",
       "  1.1666666666666665,\n",
       "  2.416666666666665],\n",
       " 'TaskName': 'finger_foot_lips'}"
      ]
     },
     "execution_count": 19,
     "metadata": {},
     "output_type": "execute_result"
    }
   ],
   "source": [
    "layout.get_metadata('/data/ds000114/sub-01/ses-test/func/sub-01_ses-test_task-fingerfootlips_bold.nii.gz')"
   ]
  },
  {
   "cell_type": "markdown",
   "metadata": {
    "deletable": true,
    "editable": true
   },
   "source": [
    "Can we incorporate this into our pipeline? Yes we can!\n",
    "More about MapNode in [MapNode](basic_mapnodes.ipynb)"
   ]
  },
  {
   "cell_type": "code",
   "execution_count": 20,
   "metadata": {
    "collapsed": true,
    "deletable": true,
    "editable": true
   },
   "outputs": [],
   "source": [
    "def printMetadata(path, data_dir):\n",
    "    from bids.grabbids import BIDSLayout\n",
    "    layout = BIDSLayout(data_dir)\n",
    "    print(\"\\n\\nanalyzing \" + path + \"\\nTR: \"+ str(layout.get_metadata(path)[\"RepetitionTime\"]) + \"\\n\\n\")\n",
    "    \n",
    "analyzeBOLD2 = MapNode(Function(function=printMetadata, input_names=[\"path\", \"data_dir\"],\n",
    "                             output_names=[]), name=\"analyzeBOLD2\", iterfield=\"path\")\n",
    "analyzeBOLD2.inputs.data_dir = \"/data/ds000114/\""
   ]
  },
  {
   "cell_type": "code",
   "execution_count": 21,
   "metadata": {
    "collapsed": false,
    "deletable": true,
    "editable": true,
    "scrolled": false
   },
   "outputs": [
    {
     "name": "stdout",
     "output_type": "stream",
     "text": [
      "170730-12:38:40,658 workflow INFO:\n",
      "\t Workflow bids_demo settings: ['check', 'execution', 'logging']\n",
      "170730-12:38:40,687 workflow INFO:\n",
      "\t Running serially.\n",
      "170730-12:38:40,689 workflow INFO:\n",
      "\t Executing node BIDSDataGrabber.aI.a1 in dir: /tmp/tmpsnrr85az/bids_demo/_subject_id_02/BIDSDataGrabber\n",
      "170730-12:38:48,740 workflow INFO:\n",
      "\t Executing node analyzeBOLD2.a1 in dir: /tmp/tmpkth33ium/bids_demo/_subject_id_02/analyzeBOLD2\n",
      "170730-12:38:48,782 workflow INFO:\n",
      "\t Executing node _analyzeBOLD20 in dir: /tmp/tmpkth33ium/bids_demo/_subject_id_02/analyzeBOLD2/mapflow/_analyzeBOLD20\n",
      "\n",
      "\n",
      "analyzing /data/ds000114/sub-02/ses-retest/func/sub-02_ses-retest_task-covertverbgeneration_bold.nii.gz\n",
      "TR: 2.5\n",
      "\n",
      "\n",
      "170730-12:38:55,755 workflow INFO:\n",
      "\t Executing node _analyzeBOLD21 in dir: /tmp/tmpkth33ium/bids_demo/_subject_id_02/analyzeBOLD2/mapflow/_analyzeBOLD21\n",
      "\n",
      "\n",
      "analyzing /data/ds000114/sub-02/ses-retest/func/sub-02_ses-retest_task-fingerfootlips_bold.nii.gz\n",
      "TR: 2.5\n",
      "\n",
      "\n",
      "170730-12:39:03,178 workflow INFO:\n",
      "\t Executing node _analyzeBOLD22 in dir: /tmp/tmpkth33ium/bids_demo/_subject_id_02/analyzeBOLD2/mapflow/_analyzeBOLD22\n",
      "\n",
      "\n",
      "analyzing /data/ds000114/sub-02/ses-retest/func/sub-02_ses-retest_task-linebisection_bold.nii.gz\n",
      "TR: 2.5\n",
      "\n",
      "\n",
      "170730-12:39:11,683 workflow INFO:\n",
      "\t Executing node _analyzeBOLD23 in dir: /tmp/tmpkth33ium/bids_demo/_subject_id_02/analyzeBOLD2/mapflow/_analyzeBOLD23\n",
      "\n",
      "\n",
      "analyzing /data/ds000114/sub-02/ses-retest/func/sub-02_ses-retest_task-overtverbgeneration_bold.nii.gz\n",
      "TR: 5.0\n",
      "\n",
      "\n",
      "170730-12:39:20,364 workflow INFO:\n",
      "\t Executing node _analyzeBOLD24 in dir: /tmp/tmpkth33ium/bids_demo/_subject_id_02/analyzeBOLD2/mapflow/_analyzeBOLD24\n",
      "\n",
      "\n",
      "analyzing /data/ds000114/sub-02/ses-retest/func/sub-02_ses-retest_task-overtwordrepetition_bold.nii.gz\n",
      "TR: 5.0\n",
      "\n",
      "\n",
      "170730-12:39:28,723 workflow INFO:\n",
      "\t Executing node _analyzeBOLD25 in dir: /tmp/tmpkth33ium/bids_demo/_subject_id_02/analyzeBOLD2/mapflow/_analyzeBOLD25\n",
      "\n",
      "\n",
      "analyzing /data/ds000114/sub-02/ses-test/func/sub-02_ses-test_task-covertverbgeneration_bold.nii.gz\n",
      "TR: 2.5\n",
      "\n",
      "\n",
      "170730-12:39:35,888 workflow INFO:\n",
      "\t Executing node _analyzeBOLD26 in dir: /tmp/tmpkth33ium/bids_demo/_subject_id_02/analyzeBOLD2/mapflow/_analyzeBOLD26\n",
      "\n",
      "\n",
      "analyzing /data/ds000114/sub-02/ses-test/func/sub-02_ses-test_task-fingerfootlips_bold.nii.gz\n",
      "TR: 2.5\n",
      "\n",
      "\n",
      "170730-12:39:45,932 workflow INFO:\n",
      "\t Executing node _analyzeBOLD27 in dir: /tmp/tmpkth33ium/bids_demo/_subject_id_02/analyzeBOLD2/mapflow/_analyzeBOLD27\n",
      "\n",
      "\n",
      "analyzing /data/ds000114/sub-02/ses-test/func/sub-02_ses-test_task-linebisection_bold.nii.gz\n",
      "TR: 2.5\n",
      "\n",
      "\n",
      "170730-12:39:53,595 workflow INFO:\n",
      "\t Executing node _analyzeBOLD28 in dir: /tmp/tmpkth33ium/bids_demo/_subject_id_02/analyzeBOLD2/mapflow/_analyzeBOLD28\n",
      "\n",
      "\n",
      "analyzing /data/ds000114/sub-02/ses-test/func/sub-02_ses-test_task-overtverbgeneration_bold.nii.gz\n",
      "TR: 5.0\n",
      "\n",
      "\n",
      "170730-12:40:01,811 workflow INFO:\n",
      "\t Executing node _analyzeBOLD29 in dir: /tmp/tmpkth33ium/bids_demo/_subject_id_02/analyzeBOLD2/mapflow/_analyzeBOLD29\n",
      "\n",
      "\n",
      "analyzing /data/ds000114/sub-02/ses-test/func/sub-02_ses-test_task-overtwordrepetition_bold.nii.gz\n",
      "TR: 5.0\n",
      "\n",
      "\n",
      "170730-12:40:09,939 workflow INFO:\n",
      "\t Executing node BIDSDataGrabber.aI.a0 in dir: /tmp/tmp5b7xcyg9/bids_demo/_subject_id_01/BIDSDataGrabber\n",
      "170730-12:40:16,445 workflow INFO:\n",
      "\t Executing node analyzeBOLD2.a0 in dir: /tmp/tmpdtufksh9/bids_demo/_subject_id_01/analyzeBOLD2\n",
      "170730-12:40:16,465 workflow INFO:\n",
      "\t Executing node _analyzeBOLD20 in dir: /tmp/tmpdtufksh9/bids_demo/_subject_id_01/analyzeBOLD2/mapflow/_analyzeBOLD20\n",
      "\n",
      "\n",
      "analyzing /data/ds000114/sub-01/ses-retest/func/sub-01_ses-retest_task-covertverbgeneration_bold.nii.gz\n",
      "TR: 2.5\n",
      "\n",
      "\n",
      "170730-12:40:23,350 workflow INFO:\n",
      "\t Executing node _analyzeBOLD21 in dir: /tmp/tmpdtufksh9/bids_demo/_subject_id_01/analyzeBOLD2/mapflow/_analyzeBOLD21\n",
      "\n",
      "\n",
      "analyzing /data/ds000114/sub-01/ses-retest/func/sub-01_ses-retest_task-fingerfootlips_bold.nii.gz\n",
      "TR: 2.5\n",
      "\n",
      "\n",
      "170730-12:40:30,849 workflow INFO:\n",
      "\t Executing node _analyzeBOLD22 in dir: /tmp/tmpdtufksh9/bids_demo/_subject_id_01/analyzeBOLD2/mapflow/_analyzeBOLD22\n",
      "\n",
      "\n",
      "analyzing /data/ds000114/sub-01/ses-retest/func/sub-01_ses-retest_task-linebisection_bold.nii.gz\n",
      "TR: 2.5\n",
      "\n",
      "\n",
      "170730-12:40:38,161 workflow INFO:\n",
      "\t Executing node _analyzeBOLD23 in dir: /tmp/tmpdtufksh9/bids_demo/_subject_id_01/analyzeBOLD2/mapflow/_analyzeBOLD23\n",
      "\n",
      "\n",
      "analyzing /data/ds000114/sub-01/ses-retest/func/sub-01_ses-retest_task-overtverbgeneration_bold.nii.gz\n",
      "TR: 5.0\n",
      "\n",
      "\n",
      "170730-12:40:46,41 workflow INFO:\n",
      "\t Executing node _analyzeBOLD24 in dir: /tmp/tmpdtufksh9/bids_demo/_subject_id_01/analyzeBOLD2/mapflow/_analyzeBOLD24\n",
      "\n",
      "\n",
      "analyzing /data/ds000114/sub-01/ses-retest/func/sub-01_ses-retest_task-overtwordrepetition_bold.nii.gz\n",
      "TR: 5.0\n",
      "\n",
      "\n",
      "170730-12:40:54,65 workflow INFO:\n",
      "\t Executing node _analyzeBOLD25 in dir: /tmp/tmpdtufksh9/bids_demo/_subject_id_01/analyzeBOLD2/mapflow/_analyzeBOLD25\n",
      "\n",
      "\n",
      "analyzing /data/ds000114/sub-01/ses-test/func/sub-01_ses-test_task-covertverbgeneration_bold.nii.gz\n",
      "TR: 2.5\n",
      "\n",
      "\n",
      "170730-12:41:02,275 workflow INFO:\n",
      "\t Executing node _analyzeBOLD26 in dir: /tmp/tmpdtufksh9/bids_demo/_subject_id_01/analyzeBOLD2/mapflow/_analyzeBOLD26\n",
      "\n",
      "\n",
      "analyzing /data/ds000114/sub-01/ses-test/func/sub-01_ses-test_task-fingerfootlips_bold.nii.gz\n",
      "TR: 2.5\n",
      "\n",
      "\n",
      "170730-12:41:10,618 workflow INFO:\n",
      "\t Executing node _analyzeBOLD27 in dir: /tmp/tmpdtufksh9/bids_demo/_subject_id_01/analyzeBOLD2/mapflow/_analyzeBOLD27\n",
      "\n",
      "\n",
      "analyzing /data/ds000114/sub-01/ses-test/func/sub-01_ses-test_task-linebisection_bold.nii.gz\n",
      "TR: 2.5\n",
      "\n",
      "\n",
      "170730-12:41:20,427 workflow INFO:\n",
      "\t Executing node _analyzeBOLD28 in dir: /tmp/tmpdtufksh9/bids_demo/_subject_id_01/analyzeBOLD2/mapflow/_analyzeBOLD28\n",
      "\n",
      "\n",
      "analyzing /data/ds000114/sub-01/ses-test/func/sub-01_ses-test_task-overtverbgeneration_bold.nii.gz\n",
      "TR: 5.0\n",
      "\n",
      "\n",
      "170730-12:41:29,458 workflow INFO:\n",
      "\t Executing node _analyzeBOLD29 in dir: /tmp/tmpdtufksh9/bids_demo/_subject_id_01/analyzeBOLD2/mapflow/_analyzeBOLD29\n",
      "\n",
      "\n",
      "analyzing /data/ds000114/sub-01/ses-test/func/sub-01_ses-test_task-overtwordrepetition_bold.nii.gz\n",
      "TR: 5.0\n",
      "\n",
      "\n"
     ]
    },
    {
     "data": {
      "text/plain": [
       "<networkx.classes.digraph.DiGraph at 0x7efca7cab668>"
      ]
     },
     "execution_count": 21,
     "metadata": {},
     "output_type": "execute_result"
    }
   ],
   "source": [
    "wf = Workflow(name=\"bids_demo\")\n",
    "wf.connect(BIDSDataGrabber, \"bolds\", analyzeBOLD2, \"path\")\n",
    "wf.run()"
   ]
  },
  {
   "cell_type": "markdown",
   "metadata": {},
   "source": [
    "### Exercise 3:\n",
    "Modify the `printMetadata` function to also print `EchoTime` "
   ]
  }
 ],
 "metadata": {
  "kernelspec": {
   "display_name": "Python 3",
   "language": "python",
   "name": "python3"
  },
  "language_info": {
   "codemirror_mode": {
    "name": "ipython",
    "version": 3
   },
   "file_extension": ".py",
   "mimetype": "text/x-python",
   "name": "python",
   "nbconvert_exporter": "python",
   "pygments_lexer": "ipython3",
   "version": "3.6.2"
  }
 },
 "nbformat": 4,
 "nbformat_minor": 2
}
