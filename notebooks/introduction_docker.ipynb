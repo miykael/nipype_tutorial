{
 "cells": [
  {
   "cell_type": "markdown",
   "metadata": {
    "deletable": true,
    "editable": true
   },
   "source": [
    "<center><img src=\"../static/images/logoDocker.png\" width=500></center>\n",
    "\n",
    "# Docker\n",
    "\n",
    "[Docker](https://www.docker.com) is an open-source project that automates the deployment of applications inside software containers. Those containers wrap up a piece of software in a complete filesystem that contains everything it needs to run: code, system tools, software libraries, such as Python, FSL, AFNI, SPM, FreeSurfer, ANTs, etc. This guarantees that it will always run the same, regardless of the environment it is running in.\n",
    "\n",
    "<font color='red'>Important:</font> **You don't need Docker to run Nipype on your system**. For Mac and Linux users, it probably is much simpler to install Nipype directly on your system. For more information on how to do this see the [Nipype website](http://nipype.readthedocs.io/en/latest/users/install.html). But for Windows user, or users that don't want to setup all the dependencies themselves, Docker is the way to go."
   ]
  },
  {
   "cell_type": "markdown",
   "metadata": {},
   "source": [
    "# Docker Image for the interactive Nipype Tutorial\n",
    "\n",
    "If you want to run this Nipype Tutorial with the example dataset locally on your own system, you need to use the docker image [satra/nih-workshop-2017](https://hub.docker.com/r/satra/nih-workshop-2017/). This docker image was created using [Neurodocker](https://github.com/kaczmarj/neurodocker) and sets up a Linux environment on your system, with functioning Python, Nipype, FSL, AFNI, ANTs and SPM12 software package."
   ]
  },
  {
   "cell_type": "markdown",
   "metadata": {},
   "source": [
    "# Install Docker\n",
    "\n",
    "Before you can do anything, you first need to install [Docker](https://www.docker.com). Depending on your system you should get a proper version of Docker:\n",
    "\n",
    " - [Docker for Ubuntu](https://docs.docker.com/engine/installation/linux/ubuntu/) or [Debian](https://docs.docker.com/engine/installation/linux/docker-ce/debian/)\n",
    " - [Docker for Mac](https://docs.docker.com/docker-for-mac/)\n",
    " - [Windows for Windows](https://docs.docker.com/docker-for-windows/) o\n",
    "\n",
    "Once Docker is installed, open up the docker terminal and test it works with the command:\n",
    "\n",
    "    docker run hello-world\n",
    "\n",
    "**Note:** Linux users might need to use ``sudo`` to run ``docker`` commands or follow [post-installation steps](https://docs.docker.com/engine/installation/linux/linux-postinstall/)."
   ]
  },
  {
   "cell_type": "markdown",
   "metadata": {},
   "source": [
    "# Pulling the Docker image\n",
    "\n",
    "You can download various Docker images, but for this tutorial you will need  ``satra/nih-workshop-2017``:\n",
    "\n",
    "    docker pull satra/nih-workshop-2017:latest\n",
    "    \n",
    "Once it's done you can check available images on your system:\n",
    "\n",
    "    docker images"
   ]
  },
  {
   "cell_type": "markdown",
   "metadata": {},
   "source": [
    "# How to run ``satra/nih-workshop-2017``\n",
    "\n",
    "After installing docker on your system and making sure that the ``hello-world`` example was running, we are good to go to start the Nipype Tutorial image. The exact implementation is a bit different for Windows user, but the general command looks as follows:\n",
    "\n",
    "    docker run -it --rm -v path/to/nipype_tutorial:/opt/tutorial  -v path/to/data/:/data -v path/to/output:/output -p 8888:8888 satra/nih-workshop-2017:latest jupyter-lab\n",
    "\n",
    "But what do those flags mean?\n",
    "\n",
    "- The ``-ti`` flag tells docker that it should open an interactive container instance.\n",
    "- The ``--rm`` flag tells docker that the container should automatically be removed after we close docker.\n",
    "- The ``-p`` flag specifies which port we want to make available for docker.\n",
    "- The ``-v`` flag tells docker which folders should be mount to make them accesible inside the container. Here: ``/path/to/nipype_tutorial`` is your local directory where you downloaded [Nipype Tutorial repository](https://github.com/djarecka/nipype_tutorial). ``path/to/data/`` is a directory where you have dataset ``ds000114``, and ``path/to/output`` can be an empty directory that will be used for output. The second part of the ``-v`` flag (here: ``/opt/tutorial``, ``/data`` or ``/output``) specifies under which path the mounted folders can be found inside the container. \n",
    "- ``satra/nih-workshop-2017:latest`` tells docker which image you want to run.\n",
    "- ``jupyter-lab`` tells that you want to go directly to the ``jupyter-lab`` within the container.\n",
    "\n",
    "**Note** that when you run ``jupyter-lab`` you will need to copy paste into your browser a URL shown in your terminal after running the command. "
   ]
  },
  {
   "cell_type": "markdown",
   "metadata": {},
   "source": [
    "# Docker tips and tricks\n",
    "\n",
    "**Note** this is a very short list of Docker commands that you might want to use. You can find more on Docker website or in ths [presentation](http://nipy.org/workshops/2017-03-boston/lectures/lesson-container/#1).\n",
    "\n",
    "## Access Docker Container with bash or ipython\n",
    "\n",
    "You don't have to open a ``jupyter-lab``  when you satra/nih-workshop-2017:latest. You can also access the docker container directly with ``bash`` or ``ipython`` by adding it to the end of your command, i.e.:\n",
    "\n",
    "    docker run -it --rm -v path/to/nipype_tutorial:/opt/tutorial  -v path/to/data/:/data -v path/to/output:/output  satra/nih-workshop-2017:latest bash\n",
    "\n",
    "This also works with other software commands, such as bet etc.\n",
    "\n",
    "## Stop Docker Container\n",
    "\n",
    "To stop a running docker container, either close the docker terminal or select the terminal and uste the ``Ctrl-C`` shortcut multiple times.\n",
    "\n",
    "\n",
    "## List all installed docker images\n",
    "\n",
    "To see a list of all installed docker images use:\n",
    "\n",
    "    docker images\n",
    "\n",
    "\n",
    "## Delete a specific docker image\n",
    "\n",
    "To delete a specific docker image, first use the ``docker images`` command to list all installed containers and than use the ``IMAGE ID`` and the ``rmi`` instruction to delete the container:\n",
    "\n",
    "    docker rmi -f 7d9495d03763\n",
    "\n"
   ]
  }
 ],
 "metadata": {
  "anaconda-cloud": {},
  "kernelspec": {
   "display_name": "Python 3",
   "language": "python",
   "name": "python3"
  },
  "language_info": {
   "codemirror_mode": {
    "name": "ipython",
    "version": 3
   },
   "file_extension": ".py",
   "mimetype": "text/x-python",
   "name": "python",
   "nbconvert_exporter": "python",
   "pygments_lexer": "ipython3",
   "version": "3.5.2"
  }
 },
 "nbformat": 4,
 "nbformat_minor": 1
}
