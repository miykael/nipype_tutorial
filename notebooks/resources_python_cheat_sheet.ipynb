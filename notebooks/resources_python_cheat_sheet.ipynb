{
 "cells": [
  {
   "cell_type": "markdown",
   "metadata": {
    "deletable": true,
    "editable": true
   },
   "source": [
    "# Python Cheat Sheet\n",
    "\n",
    "The following content is taken from http://www.ias.u-psud.fr/pperso/aboucaud/python/cheatsheet.html\n",
    "\n",
    "This cheat sheet should serve as a short refresher to everybody who hasn't used Python for some time."
   ]
  },
  {
   "cell_type": "markdown",
   "metadata": {
    "deletable": true,
    "editable": true
   },
   "source": [
    "## Pure Python"
   ]
  },
  {
   "cell_type": "markdown",
   "metadata": {
    "deletable": true,
    "editable": true
   },
   "source": [
    "### Types"
   ]
  },
  {
   "cell_type": "code",
   "execution_count": null,
   "metadata": {
    "collapsed": true,
    "deletable": true,
    "editable": true
   },
   "outputs": [],
   "source": [
    "a = 2           # integer\n",
    "b = 5.0         # float\n",
    "c = 8.3e5       # exponential\n",
    "d = 1.5 + 0.5j  # complex\n",
    "e = 4 > 5       # boolean\n",
    "f = 'word'      # string"
   ]
  },
  {
   "cell_type": "markdown",
   "metadata": {
    "deletable": true,
    "editable": true
   },
   "source": [
    "### Lists"
   ]
  },
  {
   "cell_type": "code",
   "execution_count": null,
   "metadata": {
    "collapsed": true,
    "deletable": true,
    "editable": true
   },
   "outputs": [],
   "source": [
    "a = ['red', 'blue', 'green']      # manually initialization\n",
    "b = range(5)                      # initialization through a function\n",
    "c = [nu**2 for nu in b]           # initialize through list comprehension\n",
    "d = [nu**2 for nu in b if nu < 3]  # list comprehension with condition\n",
    "e = c[0]                          # access element\n",
    "f = c[1:2]                       # access a slice of the list\n",
    "g = ['re', 'bl'] + ['gr']         # list concatenation\n",
    "h = ['re'] * 5                    # repeat a list\n",
    "['re', 'bl'].index('re')          # returns index of 're'\n",
    "'re' in ['re', 'bl']              # true if 're' in list\n",
    "sorted([3, 2, 1])                 # returns sorted list\n",
    "z = ['red'] + ['green', 'blue']   # list concatenation"
   ]
  },
  {
   "cell_type": "markdown",
   "metadata": {
    "deletable": true,
    "editable": true
   },
   "source": [
    "### Dictionaries"
   ]
  },
  {
   "cell_type": "code",
   "execution_count": null,
   "metadata": {
    "collapsed": true,
    "deletable": true,
    "editable": true
   },
   "outputs": [],
   "source": [
    "a = {'red': 'rouge', 'blue': 'bleu', 'green': 'vert'}  # dictionary\n",
    "b = a['red']                                           # translate item\n",
    "c = [value for key, value in a.items()]                # loop through contents\n",
    "d = a.get('yellow', 'no translation found')            # return default"
   ]
  },
  {
   "cell_type": "markdown",
   "metadata": {
    "deletable": true,
    "editable": true
   },
   "source": [
    "### Strings"
   ]
  },
  {
   "cell_type": "code",
   "execution_count": null,
   "metadata": {
    "collapsed": true,
    "deletable": true,
    "editable": true
   },
   "outputs": [],
   "source": [
    "a = 'red'                      # assignment\n",
    "char = a[2]                    # access individual characters\n",
    "'red ' + 'blue'                # string concatenation\n",
    "'1, 2, three'.split(',')       # split string into list\n",
    "'.'.join(['1', '2', 'three'])  # concatenate list into string"
   ]
  },
  {
   "cell_type": "markdown",
   "metadata": {
    "deletable": true,
    "editable": true
   },
   "source": [
    "### Operators"
   ]
  },
  {
   "cell_type": "code",
   "execution_count": null,
   "metadata": {
    "collapsed": true,
    "deletable": true,
    "editable": true
   },
   "outputs": [],
   "source": [
    "a = 2             # assignment\n",
    "b = [2,3]\n",
    "a += 1    # change and assign, try also `*=` and `/=`\n",
    "3 + 2             # addition\n",
    "3 / 2             # integer division (python2) or float division (python3)\n",
    "3 // 2            # integer division\n",
    "3 * 2             # multiplication\n",
    "3 ** 2            # exponent\n",
    "3 % 2             # remainder\n",
    "abs(-3)             # absolute value\n",
    "1 == 1            # equal\n",
    "2 > 1             # larger\n",
    "2 < 1             # smaller\n",
    "1 != 2            # not equal\n",
    "1 != 2 and 2 < 3  # logical AND\n",
    "1 != 2 or 2 < 3   # logical OR\n",
    "not 1 == 2        # logical NOT\n",
    "a in b            # test if a is in b\n",
    "a is b            # test if objects point to the same memory (id)"
   ]
  },
  {
   "cell_type": "markdown",
   "metadata": {
    "deletable": true,
    "editable": true
   },
   "source": [
    "### Control Flow"
   ]
  },
  {
   "cell_type": "code",
   "execution_count": null,
   "metadata": {
    "collapsed": true,
    "deletable": true,
    "editable": true
   },
   "outputs": [],
   "source": [
    "# if/elif/else\n",
    "a, b = 1, 2\n",
    "if a + b == 3:\n",
    "    print ('True')\n",
    "elif a + b == 1:\n",
    "    print ('False')\n",
    "else:\n",
    "    print ('?')\n",
    "\n",
    "# for\n",
    "a = ['red', 'blue', 'green']\n",
    "for color in a:\n",
    "    print (color)\n",
    "\n",
    "# while\n",
    "number = 1\n",
    "while number < 10:\n",
    "    print (number)\n",
    "    number += 1\n",
    "\n",
    "# break\n",
    "number = 1\n",
    "while True:\n",
    "    print (number)\n",
    "    number += 1\n",
    "    if number > 10:\n",
    "        break\n",
    "\n",
    "# continue\n",
    "for i in range(20):\n",
    "    if i % 2 == 0:\n",
    "        continue\n",
    "    print (i)"
   ]
  },
  {
   "cell_type": "markdown",
   "metadata": {
    "deletable": true,
    "editable": true
   },
   "source": [
    "### Functions, Classes, Generators, Decorators"
   ]
  },
  {
   "cell_type": "code",
   "execution_count": null,
   "metadata": {
    "collapsed": true,
    "deletable": true,
    "editable": true
   },
   "outputs": [],
   "source": [
    "# Function\n",
    "def myfunc(a1, a2):\n",
    "    return a1 * a2\n",
    "\n",
    "a1, a2 = 4, 5\n",
    "x = myfunc(a1,a2)\n",
    "\n",
    "# Class\n",
    "class Point(object):\n",
    "    def __init__(self, x):\n",
    "        self.x = x\n",
    "    def __call__(self):\n",
    "        print (self.x)\n",
    "\n",
    "x = Point(3)\n",
    "\n",
    "# Generators\n",
    "def firstn(n):\n",
    "    num = 0\n",
    "    while num < n:\n",
    "        yield num\n",
    "        num += 1\n",
    "\n",
    "# consume the generator with list comprehension\n",
    "x = [i for i in firstn(10)]\n",
    "\n",
    "# Decorators\n",
    "class myDecorator(object):\n",
    "    def __init__(self, f):\n",
    "        self.f = f\n",
    "    def __call__(self):\n",
    "        print (\"call\")\n",
    "        self.f()\n",
    "\n",
    "@myDecorator\n",
    "def my_funct():\n",
    "    print ('func')\n",
    "\n",
    "my_funct()"
   ]
  },
  {
   "cell_type": "markdown",
   "metadata": {
    "deletable": true,
    "editable": true
   },
   "source": [
    "## IPython"
   ]
  },
  {
   "cell_type": "markdown",
   "metadata": {
    "deletable": true,
    "editable": true
   },
   "source": [
    "### Python console"
   ]
  },
  {
   "cell_type": "markdown",
   "metadata": {
    "deletable": true,
    "editable": true
   },
   "source": [
    "<object>?  # Information about the object\n",
    "<object>.<TAB>  # tab completion\n",
    "\n",
    "# measure runtime of a function:\n",
    "%timeit range(1000)\n",
    "100000 loops, best of 3: 7.76 us per loop\n",
    "\n",
    "# run scripts and debug\n",
    "%run\n",
    "%run -d  # run in debug mode\n",
    "%run -t  # measures execution time\n",
    "%run -p  # runs a profiler\n",
    "%debug  # jumps to the debugger after an exception\n",
    "\n",
    "%pdb  # run debugger automatically on exception\n",
    "\n",
    "# examine history\n",
    "%history\n",
    "%history ~1/1-5  # lines 1-5 of last session\n",
    "\n",
    "# run shell commands\n",
    "!make  # prefix command with \"!\"\n",
    "\n",
    "# clean namespace\n",
    "%reset"
   ]
  },
  {
   "cell_type": "markdown",
   "metadata": {
    "deletable": true,
    "editable": true
   },
   "source": [
    "### Debugger commands"
   ]
  },
  {
   "cell_type": "markdown",
   "metadata": {
    "deletable": true,
    "editable": true
   },
   "source": [
    "n  # execute next line"
   ]
  },
  {
   "cell_type": "markdown",
   "metadata": {
    "deletable": true,
    "editable": true
   },
   "source": [
    "## NumPy (import numpy as np)"
   ]
  },
  {
   "cell_type": "markdown",
   "metadata": {
    "deletable": true,
    "editable": true
   },
   "source": [
    "### array initialization"
   ]
  },
  {
   "cell_type": "code",
   "execution_count": null,
   "metadata": {},
   "outputs": [],
   "source": [
    "import numpy as np"
   ]
  },
  {
   "cell_type": "code",
   "execution_count": null,
   "metadata": {
    "collapsed": true,
    "deletable": true,
    "editable": true
   },
   "outputs": [],
   "source": [
    "np.array([2, 3, 4])             # direct initialization\n",
    "np.empty(20, dtype=np.float32)  # single precision array with 20 entries\n",
    "np.zeros(200)                   # initialize 200 zeros\n",
    "np.ones((3,3), dtype=np.int32)  # 3 x 3 integer matrix with ones\n",
    "np.eye(200)                     # ones on the diagonal\n",
    "np.zeros_like(a)                # returns array with zeros and the shape of a\n",
    "np.linspace(0., 10., 100)       # 100 points from 0 to 10\n",
    "np.arange(0, 100, 2)            # points from 0 to <100 with step width 2\n",
    "np.logspace(-5, 2, 100)         # 100 log-spaced points between 1e-5 and 1e2\n",
    "a = np.array([[2, 3], [4, 5]])     \n",
    "np.copy(a)                      # copy array to new memory"
   ]
  },
  {
   "cell_type": "markdown",
   "metadata": {
    "deletable": true,
    "editable": true
   },
   "source": [
    "### reading/ writing files"
   ]
  },
  {
   "cell_type": "markdown",
   "metadata": {
    "deletable": true,
    "editable": true
   },
   "source": [
    "np.fromfile(fname/object, dtype=np.float32, count=5)  # read binary data from file\n",
    "np.loadtxt(fname/object, skiprows=2, delimiter=',')   # read ascii data from file"
   ]
  },
  {
   "cell_type": "markdown",
   "metadata": {
    "deletable": true,
    "editable": true
   },
   "source": [
    "### array properties and operations"
   ]
  },
  {
   "cell_type": "code",
   "execution_count": null,
   "metadata": {
    "collapsed": true,
    "deletable": true,
    "editable": true
   },
   "outputs": [],
   "source": [
    "a.shape                # a tuple with the lengths of each axis\n",
    "len(a)                 # length of axis 0\n",
    "a.ndim                 # number of dimensions (axes)\n",
    "a.sort(axis=1)         # sort array along axis\n",
    "a.flatten()            # collapse array to one dimension\n",
    "a.conj()               # return complex conjugate\n",
    "a.astype(np.int16)     # cast to integer\n",
    "np.argmax(a, axis=0)   # return index of maximum along a given axis\n",
    "np.cumsum(a)           # return cumulative sum\n",
    "np.any(a)              # True if any element is True\n",
    "np.all(a)              # True if all elements are True\n",
    "np.argsort(a, axis=1)  # return sorted index array along axis"
   ]
  },
  {
   "cell_type": "markdown",
   "metadata": {
    "deletable": true,
    "editable": true
   },
   "source": [
    "### indexing"
   ]
  },
  {
   "cell_type": "code",
   "execution_count": null,
   "metadata": {
    "collapsed": true,
    "deletable": true,
    "editable": true
   },
   "outputs": [],
   "source": [
    "a = np.arange(100)          # initialization with 0 - 99\n",
    "a[: 3] = 0                  # set the first three indices to zero\n",
    "a[1: 5] = 1                 # set indices 1-4 to 1\n",
    "start, stop, step = 10, 20, 2\n",
    "a[start:stop:step]          # general form of indexing/slicing\n",
    "a[None, :]                  # transform to column vector\n",
    "a[[1, 1, 3, 8]]             # return array with values of the indices\n",
    "a = a.reshape(10, 10)       # transform to 10 x 10 matrix\n",
    "a.T                         # return transposed view\n",
    "np.transpose(a, (1, 0))  # transpose array to new axis order\n",
    "a[a < 2]                    # returns array that fulfills element-wise condition"
   ]
  },
  {
   "cell_type": "markdown",
   "metadata": {
    "deletable": true,
    "editable": true
   },
   "source": [
    "### boolean arrays"
   ]
  },
  {
   "cell_type": "code",
   "execution_count": null,
   "metadata": {
    "collapsed": true,
    "deletable": true,
    "editable": true
   },
   "outputs": [],
   "source": [
    "a, b = np.arange(100), 6 * np.arange(100)\n",
    "a < 2                          # returns array with boolean values\n",
    "np.logical_and(a < 2, b > 10)  # element-wise logical and\n",
    "np.logical_or(a < 2, b > 10)   # element-wise logical or\n",
    "~a                             # invert boolean array\n",
    "np.invert(a)                   # invert boolean array"
   ]
  },
  {
   "cell_type": "markdown",
   "metadata": {
    "deletable": true,
    "editable": true
   },
   "source": [
    "### element-wise operations and math functions"
   ]
  },
  {
   "cell_type": "code",
   "execution_count": null,
   "metadata": {
    "collapsed": true,
    "deletable": true,
    "editable": true
   },
   "outputs": [],
   "source": [
    "y, x = np.arange(10), np.arange(10)\n",
    "a * 5              # multiplication with scalar\n",
    "a + 5              # addition with scalar\n",
    "a + b              # addition with array b\n",
    "a / b              # division with b (np.NaN for division by zero)\n",
    "np.exp(a)          # exponential (complex and real)\n",
    "np.power(a,b)      # a to the power b\n",
    "np.sin(a)          # sine\n",
    "np.cos(a)          # cosine\n",
    "np.arctan2(y,x)    # arctan(y/x)\n",
    "np.arcsin(x)       # arcsin\n",
    "np.radians(a)      # degrees to radians\n",
    "np.degrees(a)      # radians to degrees\n",
    "np.var(a)          # variance of array\n",
    "np.std(a, axis=0)  # standard deviation"
   ]
  },
  {
   "cell_type": "markdown",
   "metadata": {
    "deletable": true,
    "editable": true
   },
   "source": [
    "### inner / outer products"
   ]
  },
  {
   "cell_type": "code",
   "execution_count": null,
   "metadata": {
    "collapsed": true,
    "deletable": true,
    "editable": true
   },
   "outputs": [],
   "source": [
    "a, b = np.array([[2, 3], [4, 5]]), np.array([[20, 30], [40, 50]])\n",
    "np.dot(a, b)                        # inner matrix product: a_mi b_in\n",
    "np.einsum('ik,kl->il', a, b)        # einstein summation convention\n",
    "np.sum(a, axis=1)                   # sum over axis 1\n",
    "np.abs(a)                           # return array with absolute values\n",
    "a[None, :] + b[:, None]             # outer sum\n",
    "a[None, :] * b[:, None]             # outer product\n",
    "np.outer(a, b)                      # outer product\n",
    "np.sum(a * a.T)                     # matrix norm"
   ]
  },
  {
   "cell_type": "markdown",
   "metadata": {
    "deletable": true,
    "editable": true
   },
   "source": [
    "### interpolation, integration"
   ]
  },
  {
   "cell_type": "code",
   "execution_count": null,
   "metadata": {
    "collapsed": true,
    "deletable": true,
    "editable": true
   },
   "outputs": [],
   "source": [
    "np.trapz(y, x=None, dx=1.0, axis=0) # integrate along axis 0\n",
    "np.interp(x=2.5, xp=[1, 2, 3], fp=[3, 2, 0])      # interpolate function xp, yp at points x"
   ]
  },
  {
   "cell_type": "markdown",
   "metadata": {
    "deletable": true,
    "editable": true
   },
   "source": [
    "### fft"
   ]
  },
  {
   "cell_type": "code",
   "execution_count": null,
   "metadata": {
    "collapsed": true,
    "deletable": true,
    "editable": true
   },
   "outputs": [],
   "source": [
    "np.fft.fft(y)             # complex fourier transform of y\n",
    "freqs = np.fft.fftfreq(len(y))   # fft frequencies for a given length\n",
    "np.fft.fftshift(freqs)    # shifts zero frequency to the middle\n",
    "np.fft.rfft(y)            # real fourier transform of y\n",
    "np.fft.rfftfreq(len(y))  # real fft frequencies for a given length"
   ]
  },
  {
   "cell_type": "markdown",
   "metadata": {
    "deletable": true,
    "editable": true
   },
   "source": [
    "### rounding"
   ]
  },
  {
   "cell_type": "code",
   "execution_count": null,
   "metadata": {
    "collapsed": true,
    "deletable": true,
    "editable": true
   },
   "outputs": [],
   "source": [
    "a=3.56\n",
    "np.ceil(a)   # rounds to nearest upper int\n",
    "np.floor(a)  # rounds to nearest lower int\n",
    "np.round(a)  # rounds to neares int"
   ]
  },
  {
   "cell_type": "markdown",
   "metadata": {
    "deletable": true,
    "editable": true
   },
   "source": [
    "### random variables"
   ]
  },
  {
   "cell_type": "code",
   "execution_count": null,
   "metadata": {
    "collapsed": true,
    "deletable": true,
    "editable": true
   },
   "outputs": [],
   "source": [
    "np.random.normal(loc=0, scale=2, size=100)  # 100 normal distributed random numbers\n",
    "np.random.seed(23032)                       # resets the seed value\n",
    "np.random.rand(200)                         # 200 random numbers in [0, 1)\n",
    "np.random.uniform(1, 30, 200)               # 200 random numbers in [1, 30)\n",
    "np.random.random_integers(1, 15, 300)       # 300 random integers between [1, 15]"
   ]
  },
  {
   "cell_type": "markdown",
   "metadata": {
    "deletable": true,
    "editable": true
   },
   "source": [
    "## Matplotlib (import matplotlib.pyplot as plt)"
   ]
  },
  {
   "cell_type": "markdown",
   "metadata": {
    "deletable": true,
    "editable": true
   },
   "source": [
    "### figures and axes"
   ]
  },
  {
   "cell_type": "code",
   "execution_count": null,
   "metadata": {},
   "outputs": [],
   "source": [
    "import matplotlib.pyplot as plt"
   ]
  },
  {
   "cell_type": "code",
   "execution_count": null,
   "metadata": {
    "collapsed": true,
    "deletable": true,
    "editable": true
   },
   "outputs": [],
   "source": [
    "fig = plt.figure(figsize=(5, 2), facecolor='black')  # initialize figure\n",
    "ax = fig.add_subplot(3, 2, 2)                        # add second subplot in a 3 x 2 grid\n",
    "fig, axes = plt.subplots(5, 2, figsize=(5, 5))       # return fig and array of axes in a 5 x 2 grid\n",
    "ax = fig.add_axes(left=.3, bottom=.1, width=.6, height=.8)     # manually add axes at a certain position"
   ]
  },
  {
   "cell_type": "markdown",
   "metadata": {
    "deletable": true,
    "editable": true
   },
   "source": [
    "### figures and axes properties"
   ]
  },
  {
   "cell_type": "markdown",
   "metadata": {
    "deletable": true,
    "editable": true
   },
   "source": [
    "```python\n",
    "fig.suptitle('title')            # big figure title\n",
    "fig.subplots_adjust(bottom=0.1,\n",
    "                    right=0.8,\n",
    "                    top=0.9,\n",
    "                    wspace=0.2,\n",
    "                    hspace=0.5)  # adjust subplot positions\n",
    "fig.tight_layout(pad=0.1,\n",
    "                 h_pad=0.5,\n",
    "                 w_pad=0.5,\n",
    "                 rect=None)      # adjust subplots to fit perfectly into fig\n",
    "ax.set_xlabel()                  # set xlabel\n",
    "ax.set_ylabel()                  # set ylabel\n",
    "ax.set_xlim(1, 2)                # sets x limits\n",
    "ax.set_ylim(3, 4)                # sets y limits\n",
    "ax.set_title('blabla')           # sets the axis title\n",
    "ax.set(xlabel='bla')             # set multiple parameters at once\n",
    "ax.legend(loc='upper center')    # activate legend\n",
    "ax.grid(True, which='both')      # activate grid\n",
    "bbox = ax.get_position()         # returns the axes bounding box\n",
    "bbox.x0 + bbox.width             # bounding box parameters\n",
    "```"
   ]
  },
  {
   "cell_type": "markdown",
   "metadata": {
    "deletable": true,
    "editable": true
   },
   "source": [
    "### plotting routines"
   ]
  },
  {
   "cell_type": "markdown",
   "metadata": {
    "deletable": true,
    "editable": true
   },
   "source": [
    "```python\n",
    "ax.plot(x,y, '-o', c='red', lw=2, label='bla')  # plots a line\n",
    "ax.scatter(x,y, s=20, c=color)                  # scatter plot\n",
    "ax.pcolormesh(xx,yy,zz, shading='gouraud')      # fast colormesh function\n",
    "ax.colormesh(xx,yy,zz, norm=norm)               # slower colormesh function\n",
    "ax.contour(xx,yy,zz, cmap='jet')                # contour line plot\n",
    "ax.contourf(xx,yy,zz, vmin=2, vmax=4)           # filled contours plot\n",
    "n, bins, patch = ax.hist(x, 50)                 # histogram\n",
    "ax.imshow(matrix, origin='lower', extent=(x1, x2, y1, y2))  # show image\n",
    "ax.specgram(y, FS=0.1, noverlap=128, scale='linear')  # plot a spectrogram\n",
    "```"
   ]
  }
 ],
 "metadata": {
  "anaconda-cloud": {},
  "kernelspec": {
   "display_name": "Python 3",
   "language": "python",
   "name": "python3"
  },
  "language_info": {
   "codemirror_mode": {
    "name": "ipython",
    "version": 3
   },
   "file_extension": ".py",
   "mimetype": "text/x-python",
   "name": "python",
   "nbconvert_exporter": "python",
   "pygments_lexer": "ipython3",
   "version": "3.6.2"
  }
 },
 "nbformat": 4,
 "nbformat_minor": 2
}
