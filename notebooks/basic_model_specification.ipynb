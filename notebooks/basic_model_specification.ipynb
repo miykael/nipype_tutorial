{
 "cells": [
  {
   "cell_type": "markdown",
   "metadata": {},
   "source": [
    "# Model Specification for 1st-Level fMRI Analysis\n",
    "\n",
    "Nipype provides also an interfaces to create a first level Model for an fMRI analysis. Such a model is needed to specify the study specific information, such as **condition**, their **onsets** and **durations**. For more information, make sure to check out [Model Specificaton](http://nipype.readthedocs.io/en/latest/users/model_specification.html) and [nipype.algorithms.modelgen](http://nipype.readthedocs.io/en/latest/interfaces/generated/nipype.algorithms.modelgen.html)"
   ]
  },
  {
   "cell_type": "markdown",
   "metadata": {},
   "source": [
    "## Simple Example\n",
    "\n",
    "Let's consider a simple experiment, where we have three different stimuli such as ``'faces'``, ``'houses'`` and ``'scrambled pix'``. Now each of those three conditions has different stimuli onsets, but all of them have a stimuli presentation duration of 3 seconds.\n",
    "\n",
    "So to summarize:\n",
    "\n",
    "    conditions = ['faces', 'houses', 'scrambled pix']\n",
    "    onsets = [[0, 30, 60, 90],\n",
    "              [10, 40, 70, 100],\n",
    "              [20, 50, 80, 110]]\n",
    "    durations = [[3], [3], [3]]\n",
    "    \n",
    "The way we would create this model with Nipype is almsot as simple as that. The only step that is missing is to put this all into a ``Bunch`` object. This can be done as follows:"
   ]
  },
  {
   "cell_type": "code",
   "execution_count": 1,
   "metadata": {
    "collapsed": false
   },
   "outputs": [],
   "source": [
    "from nipype.interfaces.base import Bunch\n",
    "\n",
    "conditions = ['faces', 'houses', 'scrambled pix']\n",
    "onsets = [[0, 30, 60, 90],\n",
    "          [10, 40, 70, 100],\n",
    "          [20, 50, 80, 110]]\n",
    "durations = [[3], [3], [3]]\n",
    "\n",
    "subject_info = Bunch(conditions=conditions,\n",
    "                     onsets=onsets,\n",
    "                     durations=durations)"
   ]
  },
  {
   "cell_type": "markdown",
   "metadata": {},
   "source": [
    "It's also possible to specify additional regressors. For this you need to additionally specify:\n",
    "\n",
    "- **``regressors``**: list of regressors that you want to include in the model (must correspond to the number of volumes in the functional run)\n",
    "- **``regressor_names``**: name of the regressors that you want to include"
   ]
  },
  {
   "cell_type": "markdown",
   "metadata": {},
   "source": [
    "## Example based on dataset\n",
    "\n",
    "Now  let's look at a TSV file from our tutorial dataset."
   ]
  },
  {
   "cell_type": "code",
   "execution_count": 2,
   "metadata": {
    "collapsed": false,
    "deletable": true,
    "editable": true
   },
   "outputs": [
    {
     "name": "stdout",
     "output_type": "stream",
     "text": [
      "onset\tduration\tweight\ttrial_type\r\n",
      "10\t15.0\t1\tFinger\r\n",
      "40\t15.0\t1\tFoot\r\n",
      "70\t15.0\t1\tLips\r\n",
      "100\t15.0\t1\tFinger\r\n",
      "130\t15.0\t1\tFoot\r\n",
      "160\t15.0\t1\tLips\r\n",
      "190\t15.0\t1\tFinger\r\n",
      "220\t15.0\t1\tFoot\r\n",
      "250\t15.0\t1\tLips\r\n",
      "280\t15.0\t1\tFinger\r\n",
      "310\t15.0\t1\tFoot\r\n",
      "340\t15.0\t1\tLips\r\n",
      "370\t15.0\t1\tFinger\r\n",
      "400\t15.0\t1\tFoot\r\n",
      "430\t15.0\t1\tLips\r\n"
     ]
    }
   ],
   "source": [
    "!cat /data/ds000114/task-fingerfootlips_events.tsv"
   ]
  },
  {
   "cell_type": "markdown",
   "metadata": {},
   "source": [
    "We can also use [pandas](http://pandas.pydata.org/) to create a data frame from our dataset."
   ]
  },
  {
   "cell_type": "code",
   "execution_count": 3,
   "metadata": {
    "collapsed": false
   },
   "outputs": [
    {
     "data": {
      "text/html": [
       "<div>\n",
       "<style>\n",
       "    .dataframe thead tr:only-child th {\n",
       "        text-align: right;\n",
       "    }\n",
       "\n",
       "    .dataframe thead th {\n",
       "        text-align: left;\n",
       "    }\n",
       "\n",
       "    .dataframe tbody tr th {\n",
       "        vertical-align: top;\n",
       "    }\n",
       "</style>\n",
       "<table border=\"1\" class=\"dataframe\">\n",
       "  <thead>\n",
       "    <tr style=\"text-align: right;\">\n",
       "      <th></th>\n",
       "      <th>onset</th>\n",
       "      <th>duration</th>\n",
       "      <th>weight</th>\n",
       "      <th>trial_type</th>\n",
       "    </tr>\n",
       "  </thead>\n",
       "  <tbody>\n",
       "    <tr>\n",
       "      <th>0</th>\n",
       "      <td>10</td>\n",
       "      <td>15.0</td>\n",
       "      <td>1</td>\n",
       "      <td>Finger</td>\n",
       "    </tr>\n",
       "    <tr>\n",
       "      <th>1</th>\n",
       "      <td>40</td>\n",
       "      <td>15.0</td>\n",
       "      <td>1</td>\n",
       "      <td>Foot</td>\n",
       "    </tr>\n",
       "    <tr>\n",
       "      <th>2</th>\n",
       "      <td>70</td>\n",
       "      <td>15.0</td>\n",
       "      <td>1</td>\n",
       "      <td>Lips</td>\n",
       "    </tr>\n",
       "    <tr>\n",
       "      <th>3</th>\n",
       "      <td>100</td>\n",
       "      <td>15.0</td>\n",
       "      <td>1</td>\n",
       "      <td>Finger</td>\n",
       "    </tr>\n",
       "    <tr>\n",
       "      <th>4</th>\n",
       "      <td>130</td>\n",
       "      <td>15.0</td>\n",
       "      <td>1</td>\n",
       "      <td>Foot</td>\n",
       "    </tr>\n",
       "  </tbody>\n",
       "</table>\n",
       "</div>"
      ],
      "text/plain": [
       "   onset  duration  weight trial_type\n",
       "0     10      15.0       1     Finger\n",
       "1     40      15.0       1       Foot\n",
       "2     70      15.0       1       Lips\n",
       "3    100      15.0       1     Finger\n",
       "4    130      15.0       1       Foot"
      ]
     },
     "execution_count": 3,
     "metadata": {},
     "output_type": "execute_result"
    }
   ],
   "source": [
    "import pandas as pd\n",
    "trialinfo = pd.read_table('/data/ds000114/task-fingerfootlips_events.tsv')\n",
    "trialinfo.head()"
   ]
  },
  {
   "cell_type": "markdown",
   "metadata": {},
   "source": [
    "Before we can use the onsets, we first need to split them into the three conditions:"
   ]
  },
  {
   "cell_type": "code",
   "execution_count": 4,
   "metadata": {
    "collapsed": true
   },
   "outputs": [
    {
     "name": "stdout",
     "output_type": "stream",
     "text": [
      "('Finger',     onset  duration  weight trial_type\n",
      "0      10      15.0       1     Finger\n",
      "3     100      15.0       1     Finger\n",
      "6     190      15.0       1     Finger\n",
      "9     280      15.0       1     Finger\n",
      "12    370      15.0       1     Finger)\n",
      "('Foot',     onset  duration  weight trial_type\n",
      "1      40      15.0       1       Foot\n",
      "4     130      15.0       1       Foot\n",
      "7     220      15.0       1       Foot\n",
      "10    310      15.0       1       Foot\n",
      "13    400      15.0       1       Foot)\n",
      "('Lips',     onset  duration  weight trial_type\n",
      "2      70      15.0       1       Lips\n",
      "5     160      15.0       1       Lips\n",
      "8     250      15.0       1       Lips\n",
      "11    340      15.0       1       Lips\n",
      "14    430      15.0       1       Lips)\n"
     ]
    }
   ],
   "source": [
    "for group in trialinfo.groupby('trial_type'):\n",
    "    print(group)"
   ]
  },
  {
   "cell_type": "markdown",
   "metadata": {},
   "source": [
    "The last thing we now need to to is to put this into a ``Bunch`` object and we're done:"
   ]
  },
  {
   "cell_type": "code",
   "execution_count": 5,
   "metadata": {
    "collapsed": true
   },
   "outputs": [
    {
     "data": {
      "text/plain": [
       "[('conditions', ['Finger', 'Foot', 'Lips']),\n",
       " ('onsets',\n",
       "  [[10, 100, 190, 280, 370],\n",
       "   [40, 130, 220, 310, 400],\n",
       "   [70, 160, 250, 340, 430]]),\n",
       " ('durations',\n",
       "  [[15.0, 15.0, 15.0, 15.0, 15.0],\n",
       "   [15.0, 15.0, 15.0, 15.0, 15.0],\n",
       "   [15.0, 15.0, 15.0, 15.0, 15.0]])]"
      ]
     },
     "execution_count": 5,
     "metadata": {},
     "output_type": "execute_result"
    }
   ],
   "source": [
    "from nipype.interfaces.base import Bunch\n",
    "\n",
    "conditions = []\n",
    "onsets = []\n",
    "durations = []\n",
    "\n",
    "for group in trialinfo.groupby('trial_type'):\n",
    "    conditions.append(group[0])\n",
    "    onsets.append(group[1].onset.tolist())\n",
    "    durations.append(group[1].duration.tolist())\n",
    "\n",
    "subject_info = Bunch(conditions=conditions,\n",
    "                     onsets=onsets,\n",
    "                     durations=durations)\n",
    "subject_info.items()"
   ]
  }
 ],
 "metadata": {
  "kernelspec": {
   "display_name": "Python 3",
   "language": "python",
   "name": "python3"
  },
  "language_info": {
   "codemirror_mode": {
    "name": "ipython",
    "version": 3
   },
   "file_extension": ".py",
   "mimetype": "text/x-python",
   "name": "python",
   "nbconvert_exporter": "python",
   "pygments_lexer": "ipython3",
   "version": "3.6.2"
  }
 },
 "nbformat": 4,
 "nbformat_minor": 2
}
