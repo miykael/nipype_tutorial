{
 "cells": [
  {
   "cell_type": "markdown",
   "metadata": {},
   "source": [
    "# Function Interface\n",
    "\n",
    "Satra once called the `Function` module, the \"do anything you want card\". Which is a perfect description. Because it allows you to put any code you want into an empty node, which you then can put in your workflow exactly where it needs to be.\n",
    "\n",
    "## A Simple Function Interface\n",
    "\n",
    "You might have already seen the `Function` module in the [example section in the Node tutorial](basic_nodes.ipynb#Example-of-a-simple-node). Let's take a closer look at it again."
   ]
  },
  {
   "cell_type": "markdown",
   "metadata": {},
   "source": [
    "The most important component of a working `Function` interface is a Python function. There are several ways to associate a function with a `Function` interface, but the most common way will involve functions you code yourself as part of your Nipype scripts. Consider the following function:"
   ]
  },
  {
   "cell_type": "code",
   "execution_count": null,
   "metadata": {},
   "outputs": [],
   "source": [
    "# Create a small example function\n",
    "def add_two(x_input):\n",
    "    return x_input + 2"
   ]
  },
  {
   "cell_type": "markdown",
   "metadata": {},
   "source": [
    "This simple function takes a value, adds 2 to it, and returns that new value.\n",
    "\n",
    "Just as Nipype interfaces have inputs and outputs, Python functions have inputs, in the form of parameters or arguments, and outputs, in the form of their return values. When you define a Function interface object with an existing function, as in the case of ``add_two()`` above, you must pass the constructor information about the function's inputs, its outputs, and the function itself.  For example,"
   ]
  },
  {
   "cell_type": "code",
   "execution_count": null,
   "metadata": {},
   "outputs": [],
   "source": [
    "# Import Node and Function module\n",
    "from nipype import Node, Function\n",
    "\n",
    "# Create Node\n",
    "addtwo = Node(Function(input_names=[\"x_input\"],\n",
    "                       output_names=[\"val_output\"],\n",
    "                       function=add_two),\n",
    "              name='add_node')"
   ]
  },
  {
   "cell_type": "markdown",
   "metadata": {},
   "source": [
    "Then you can set the inputs and run just as you would with any other interface:"
   ]
  },
  {
   "cell_type": "code",
   "execution_count": null,
   "metadata": {},
   "outputs": [],
   "source": [
    "addtwo.inputs.x_input = 4\n",
    "addtwo.run()"
   ]
  },
  {
   "cell_type": "code",
   "execution_count": null,
   "metadata": {},
   "outputs": [],
   "source": [
    "addtwo.result.outputs"
   ]
  },
  {
   "cell_type": "markdown",
   "metadata": {},
   "source": [
    "You need to be careful that the name of the input paramter to the node is the same name as the input parameter to the function, i.e. `x_input`. But you don't have to specify `input_names` or `output_names`. You can also just use:"
   ]
  },
  {
   "cell_type": "code",
   "execution_count": null,
   "metadata": {},
   "outputs": [],
   "source": [
    "addtwo = Node(Function(function=add_two), name='add_node')\n",
    "addtwo.inputs.x_input = 8\n",
    "addtwo.run()"
   ]
  },
  {
   "cell_type": "code",
   "execution_count": null,
   "metadata": {},
   "outputs": [],
   "source": [
    "addtwo.result.outputs"
   ]
  },
  {
   "cell_type": "markdown",
   "metadata": {},
   "source": [
    "## Using External Packages\n",
    "\n",
    "Chances are, you will want to write functions that do more complicated processing, particularly using the growing stack of Python packages geared towards neuroimaging, such as [Nibabel](http://nipy.org/nibabel/), [Nipy](http://nipy.org/), or [PyMVPA](http://www.pymvpa.org/).\n",
    "\n",
    "While this is completely possible (and, indeed, an intended use of the Function interface), it does come with one important constraint. The function code you write is executed in a standalone environment, which means that any external functions or classes you use have to be imported within the function itself:"
   ]
  },
  {
   "cell_type": "code",
   "execution_count": null,
   "metadata": {},
   "outputs": [],
   "source": [
    "def get_n_trs(in_file):\n",
    "    import nibabel\n",
    "    f = nibabel.load(in_file)\n",
    "    return f.shape[-1]"
   ]
  },
  {
   "cell_type": "markdown",
   "metadata": {},
   "source": [
    "Without explicitly importing Nibabel in the body of the function, this would fail.\n",
    "\n",
    "Alternatively, it is possible to provide a list of strings corresponding to the imports needed to execute a function as a parameter of the `Function` constructor. This allows for the use of external functions that do not import all external definitions inside the function body."
   ]
  },
  {
   "cell_type": "markdown",
   "metadata": {},
   "source": [
    "## Advanced Use\n",
    "\n",
    "To use an existing function object (as we have been doing so far) with a Function interface, it must be passed to the constructor. However, it is also possible to dynamically set how a Function interface will process its inputs using the special ``function_str`` input.\n",
    "\n",
    "This input takes not a function object, but actually a single string that can be parsed to define a function. In the equivalent case to our example above, the string would be"
   ]
  },
  {
   "cell_type": "code",
   "execution_count": null,
   "metadata": {},
   "outputs": [],
   "source": [
    "add_two_str = \"def add_two(val):\\n    return val + 2\\n\""
   ]
  },
  {
   "cell_type": "markdown",
   "metadata": {},
   "source": [
    "Unlike when using a function object, this input can be set like any other, meaning that you could write a function that outputs different function strings depending on some run-time contingencies, and connect that output the ``function_str`` input of a downstream Function interface."
   ]
  },
  {
   "cell_type": "markdown",
   "metadata": {},
   "source": [
    "# Important - Function Nodes are closed environments\n",
    "\n",
    "There's only one trap that you should be aware of when using the `Function` module.\n",
    "\n",
    "If you want to use another module inside a function, you have to import it again inside the function. Let's take a look at the following example:"
   ]
  },
  {
   "cell_type": "code",
   "execution_count": null,
   "metadata": {},
   "outputs": [],
   "source": [
    "from nipype import Node, Function\n",
    "\n",
    "# Create the Function object\n",
    "def get_random_array(array_shape):\n",
    "\n",
    "    # Import random function\n",
    "    from numpy.random import random\n",
    "   \n",
    "    return random(array_shape)\n",
    "\n",
    "# Create Function Node that executes get_random_array\n",
    "rndArray = Node(Function(input_names=[\"array_shape\"],\n",
    "                         output_names=[\"random_array\"],\n",
    "                         function=get_random_array),\n",
    "                name='rndArray_node')\n",
    "\n",
    "# Specify the array_shape of the random array\n",
    "rndArray.inputs.array_shape = (3, 3)\n",
    "\n",
    "# Run node\n",
    "rndArray.run()\n",
    "\n",
    "# Print output\n",
    "print(rndArray.result.outputs)"
   ]
  },
  {
   "cell_type": "markdown",
   "metadata": {},
   "source": [
    "Now, let's see what happens if we move the import of `random` outside the scope of `get_random_array`:"
   ]
  },
  {
   "cell_type": "code",
   "execution_count": null,
   "metadata": {},
   "outputs": [],
   "source": [
    "from nipype import Node, Function\n",
    "\n",
    "# Import random function\n",
    "from numpy.random import random\n",
    "\n",
    "\n",
    "# Create the Function object\n",
    "def get_random_array(array_shape):\n",
    "  \n",
    "    return random(array_shape)\n",
    "\n",
    "# Create Function Node that executes get_random_array\n",
    "rndArray = Node(Function(input_names=[\"array_shape\"],\n",
    "                         output_names=[\"random_array\"],\n",
    "                         function=get_random_array),\n",
    "                name='rndArray_node')\n",
    "\n",
    "# Specify the array_shape of the random array\n",
    "rndArray.inputs.array_shape = (3, 3)\n",
    "\n",
    "# Run node\n",
    "try:\n",
    "    rndArray.run()\n",
    "except Exception as err:\n",
    "    print(err)\n",
    "else:\n",
    "    raise"
   ]
  },
  {
   "cell_type": "markdown",
   "metadata": {},
   "source": [
    "As you can see, if we don't import `random` inside the scope of the function, we receive the following error:\n",
    "\n",
    "    Exception raised while executing Node rndArray_node.\n",
    "\n",
    "    Traceback (most recent call last):\n",
    "      [...]\n",
    "      File \"<string>\", line 3, in get_random_array\n",
    "    NameError: name 'random' is not defined"
   ]
  }
 ],
 "metadata": {
  "anaconda-cloud": {},
  "kernelspec": {
   "display_name": "Python [default]",
   "language": "python",
   "name": "python3"
  },
  "language_info": {
   "codemirror_mode": {
    "name": "ipython",
    "version": 3
   },
   "file_extension": ".py",
   "mimetype": "text/x-python",
   "name": "python",
   "nbconvert_exporter": "python",
   "pygments_lexer": "ipython3",
   "version": "3.6.5"
  }
 },
 "nbformat": 4,
 "nbformat_minor": 2
}
