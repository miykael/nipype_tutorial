{
 "cells": [
  {
   "cell_type": "markdown",
   "metadata": {
    "deletable": true,
    "editable": true
   },
   "source": [
    "# Data Output\n",
    "\n",
    "Similarly important to data input is data output. Using a data output module allows you to restructure and rename computed output and to spatial differentiate relevant output files from the temporary computed intermediate files in the working directory. Nipype provides the following modules to handle data stream output:\n",
    "\n",
    "    DataSink\n",
    "    JSONFileSink\n",
    "    MySQLSink\n",
    "    SQLiteSink\n",
    "    XNATSink\n",
    "\n",
    "This tutorial covers only `DataSink`. For the rest, see the section [``interfaces.io``](http://nipype.readthedocs.io/en/latest/interfaces/generated/nipype.interfaces.io.html) on the official homepage."
   ]
  },
  {
   "cell_type": "markdown",
   "metadata": {
    "deletable": true,
    "editable": true
   },
   "source": [
    "# Preparation\n",
    "\n",
    "Before we can use `DataSink` we first need to run a workflow. For this purpose, let's create a very short preprocessing workflow that realigns and smooths one functional image of one subject."
   ]
  },
  {
   "cell_type": "markdown",
   "metadata": {
    "deletable": true,
    "editable": true
   },
   "source": [
    "First, let's create a `SelectFiles` node. For an explanation about this step, see the [Data Input](basic_data_input.ipynb) tutorial."
   ]
  },
  {
   "cell_type": "code",
   "execution_count": 1,
   "metadata": {
    "collapsed": true,
    "deletable": true,
    "editable": true
   },
   "outputs": [],
   "source": [
    "from nipype import SelectFiles, Node\n",
    "\n",
    "# Create SelectFiles node\n",
    "templates={'func': '{subject}/{session}/func/{subject}_{session}_task-fingerfootlips_bold.nii.gz'}\n",
    "sf = Node(SelectFiles(templates),\n",
    "          name='selectfiles')\n",
    "sf.inputs.base_directory = '/data/ds000114'\n",
    "sf.inputs.subject = 'sub-01'\n",
    "sf.inputs.session = 'ses-test'"
   ]
  },
  {
   "cell_type": "markdown",
   "metadata": {
    "deletable": true,
    "editable": true
   },
   "source": [
    "Second, let's create the motion correction and smoothing node. For an explanation about this step, see the [Nodes](basic_nodes.ipynb) and [Interfaces](basic_interfaces.ipynb) tutorial."
   ]
  },
  {
   "cell_type": "code",
   "execution_count": 2,
   "metadata": {
    "collapsed": true,
    "deletable": true,
    "editable": true
   },
   "outputs": [],
   "source": [
    "from nipype.interfaces.fsl import MCFLIRT, IsotropicSmooth\n",
    "\n",
    "# Create Motion Correction Node\n",
    "mcflirt = Node(MCFLIRT(mean_vol=True,\n",
    "                       save_plots=True),\n",
    "               name='mcflirt')\n",
    "\n",
    "# Create Smoothing node\n",
    "smooth = Node(IsotropicSmooth(fwhm=4),\n",
    "              name='smooth')"
   ]
  },
  {
   "cell_type": "markdown",
   "metadata": {
    "deletable": true,
    "editable": true
   },
   "source": [
    "Third, let's create the workflow that will contain those three nodes. For an explanation about this step, see the [Workflow](basic_workflow.ipynb) tutorial."
   ]
  },
  {
   "cell_type": "code",
   "execution_count": 3,
   "metadata": {
    "collapsed": true,
    "deletable": true,
    "editable": true
   },
   "outputs": [],
   "source": [
    "from nipype import Workflow\n",
    "from os.path import abspath\n",
    "\n",
    "# Create a preprocessing workflow\n",
    "wf = Workflow(name=\"preprocWF\")\n",
    "wf.base_dir = '/output/working_dir'\n",
    "\n",
    "# Connect the three nodes to each other\n",
    "wf.connect([(sf, mcflirt, [(\"func\", \"in_file\")]),\n",
    "            (mcflirt, smooth, [(\"out_file\", \"in_file\")])])"
   ]
  },
  {
   "cell_type": "markdown",
   "metadata": {
    "deletable": true,
    "editable": true
   },
   "source": [
    "Now that everything is set up, let's run the preprocessing workflow."
   ]
  },
  {
   "cell_type": "code",
   "execution_count": 4,
   "metadata": {
    "collapsed": false,
    "deletable": true,
    "editable": true
   },
   "outputs": [
    {
     "name": "stdout",
     "output_type": "stream",
     "text": [
      "170730-12:44:49,877 workflow INFO:\n",
      "\t Workflow preprocWF settings: ['check', 'execution', 'logging']\n",
      "170730-12:44:49,896 workflow INFO:\n",
      "\t Running serially.\n",
      "170730-12:44:49,898 workflow INFO:\n",
      "\t Executing node selectfiles in dir: /output/working_dir/preprocWF/selectfiles\n",
      "170730-12:44:49,953 workflow INFO:\n",
      "\t Executing node mcflirt in dir: /output/working_dir/preprocWF/mcflirt\n",
      "170730-12:44:49,982 workflow INFO:\n",
      "\t Running: mcflirt -in /data/ds000114/sub-01/ses-test/func/sub-01_ses-test_task-fingerfootlips_bold.nii.gz -meanvol -out /output/working_dir/preprocWF/mcflirt/sub-01_ses-test_task-fingerfootlips_bold_mcf.nii.gz -plots\n",
      "170730-12:46:03,804 workflow INFO:\n",
      "\t Executing node smooth in dir: /output/working_dir/preprocWF/smooth\n",
      "170730-12:46:03,828 workflow INFO:\n",
      "\t Running: fslmaths /output/working_dir/preprocWF/mcflirt/sub-01_ses-test_task-fingerfootlips_bold_mcf.nii.gz -s 1.69864 /output/working_dir/preprocWF/smooth/sub-01_ses-test_task-fingerfootlips_bold_mcf_smooth.nii.gz\n"
     ]
    },
    {
     "data": {
      "text/plain": [
       "<networkx.classes.digraph.DiGraph at 0x7f74d7242f60>"
      ]
     },
     "execution_count": 4,
     "metadata": {},
     "output_type": "execute_result"
    }
   ],
   "source": [
    "wf.run()"
   ]
  },
  {
   "cell_type": "markdown",
   "metadata": {
    "deletable": true,
    "editable": true
   },
   "source": [
    "After the execution of the workflow we have all the data hidden in the working directory `'working_dir'`. Let's take a closer look at the content of this folder:"
   ]
  },
  {
   "cell_type": "code",
   "execution_count": 5,
   "metadata": {},
   "outputs": [
    {
     "name": "stdout",
     "output_type": "stream",
     "text": [
      "/output/working_dir/preprocWF\r\n",
      "├── d3.js\r\n",
      "├── graph.json\r\n",
      "├── graph1.json\r\n",
      "├── index.html\r\n",
      "├── mcflirt\r\n",
      "│   ├── _0xe1ff1f4efd394c21a17c593b15242ef8.json\r\n",
      "│   ├── _inputs.pklz\r\n",
      "│   ├── _node.pklz\r\n",
      "│   ├── _report\r\n",
      "│   │   └── report.rst\r\n",
      "│   ├── command.txt\r\n",
      "│   ├── result_mcflirt.pklz\r\n",
      "│   └── sub-01_ses-test_task-fingerfootlips_bold_mcf.nii.gz\r\n",
      "├── selectfiles\r\n",
      "│   ├── _0x8be4cb43842af73f06e36ceafabda572.json\r\n",
      "│   ├── _inputs.pklz\r\n",
      "│   ├── _node.pklz\r\n",
      "│   ├── _report\r\n",
      "│   │   └── report.rst\r\n",
      "│   └── result_selectfiles.pklz\r\n",
      "└── smooth\r\n",
      "    ├── _0xed776f9459a2b72cad895a6c58a5a5a9.json\r\n",
      "    ├── _inputs.pklz\r\n",
      "    ├── _node.pklz\r\n",
      "    ├── _report\r\n",
      "    │   └── report.rst\r\n",
      "    ├── command.txt\r\n",
      "    ├── result_smooth.pklz\r\n",
      "    └── sub-01_ses-test_task-fingerfootlips_bold_mcf_smooth.nii.gz\r\n",
      "\r\n",
      "6 directories, 23 files\r\n"
     ]
    }
   ],
   "source": [
    "! tree /output/working_dir/preprocWF"
   ]
  },
  {
   "cell_type": "markdown",
   "metadata": {
    "deletable": true,
    "editable": true
   },
   "source": [
    "As we can see, there is way too much content that we might not really care about. To relocate and rename all the files that are relevant for you, you can use `DataSink`?"
   ]
  },
  {
   "cell_type": "markdown",
   "metadata": {
    "deletable": true,
    "editable": true
   },
   "source": [
    "# DataSink\n",
    "\n",
    "`DataSink` is Nipype's standard output module to restructure your output files. It allows you to relocate and rename files that you deem relevant.\n",
    "\n",
    "Based on the preprocessing pipeline above, let's say we want to keep the smoothed functional images as well as the motion correction paramters. To do this, we first need to create the `DataSink` object."
   ]
  },
  {
   "cell_type": "code",
   "execution_count": 6,
   "metadata": {
    "collapsed": false,
    "deletable": true,
    "editable": true
   },
   "outputs": [
    {
     "name": "stdout",
     "output_type": "stream",
     "text": [
      "170730-12:47:04,683 workflow INFO:\n",
      "\t Workflow preprocWF settings: ['check', 'execution', 'logging']\n",
      "170730-12:47:04,717 workflow INFO:\n",
      "\t Running serially.\n",
      "170730-12:47:04,718 workflow INFO:\n",
      "\t Executing node selectfiles in dir: /output/working_dir/preprocWF/selectfiles\n",
      "170730-12:47:04,787 workflow INFO:\n",
      "\t Executing node mcflirt in dir: /output/working_dir/preprocWF/mcflirt\n",
      "170730-12:47:04,835 workflow INFO:\n",
      "\t Running: mcflirt -in /data/ds000114/sub-01/ses-test/func/sub-01_ses-test_task-fingerfootlips_bold.nii.gz -meanvol -out /output/working_dir/preprocWF/mcflirt/sub-01_ses-test_task-fingerfootlips_bold_mcf.nii.gz -plots\n",
      "170730-12:48:19,673 workflow INFO:\n",
      "\t Executing node smooth in dir: /output/working_dir/preprocWF/smooth\n",
      "170730-12:48:19,726 workflow INFO:\n",
      "\t Running: fslmaths /output/working_dir/preprocWF/mcflirt/sub-01_ses-test_task-fingerfootlips_bold_mcf.nii.gz -s 1.69864 /output/working_dir/preprocWF/smooth/sub-01_ses-test_task-fingerfootlips_bold_mcf_smooth.nii.gz\n",
      "170730-12:48:29,493 workflow INFO:\n",
      "\t Executing node sinker in dir: /output/working_dir/preprocWF/sinker\n"
     ]
    },
    {
     "data": {
      "text/plain": [
       "<networkx.classes.digraph.DiGraph at 0x7f74d720e320>"
      ]
     },
     "execution_count": 6,
     "metadata": {},
     "output_type": "execute_result"
    }
   ],
   "source": [
    "from nipype.interfaces.io import DataSink\n",
    "\n",
    "# Create DataSink object\n",
    "sinker = Node(DataSink(), name='sinker')\n",
    "\n",
    "# Name of the output folder\n",
    "sinker.inputs.base_directory = '/output/working_dir/preprocWF_output'\n",
    "\n",
    "# Connect DataSink with the relevant nodes\n",
    "wf.connect([(smooth, sinker, [('out_file', 'in_file')]),\n",
    "            (mcflirt, sinker, [('mean_img', 'mean_img'),\n",
    "                               ('par_file', 'par_file')]),\n",
    "            ])\n",
    "wf.run()"
   ]
  },
  {
   "cell_type": "markdown",
   "metadata": {
    "deletable": true,
    "editable": true
   },
   "source": [
    "Let's take a look at the `output` folder:"
   ]
  },
  {
   "cell_type": "code",
   "execution_count": 7,
   "metadata": {},
   "outputs": [
    {
     "name": "stdout",
     "output_type": "stream",
     "text": [
      "/output/working_dir/preprocWF_output\r\n",
      "├── in_file\r\n",
      "│   └── sub-01_ses-test_task-fingerfootlips_bold_mcf_smooth.nii.gz\r\n",
      "├── mean_img\r\n",
      "│   └── sub-01_ses-test_task-fingerfootlips_bold_mcf.nii.gz_mean_reg.nii.gz\r\n",
      "└── par_file\r\n",
      "    └── sub-01_ses-test_task-fingerfootlips_bold_mcf.nii.gz.par\r\n",
      "\r\n",
      "3 directories, 3 files\r\n"
     ]
    }
   ],
   "source": [
    "! tree /output/working_dir/preprocWF_output"
   ]
  },
  {
   "cell_type": "markdown",
   "metadata": {
    "deletable": true,
    "editable": true
   },
   "source": [
    "This looks nice. It is what we asked it to do. But having a specific output folder for each individual output file might be suboptimal. So let's change the code above to save the output in one folder, which we will call `'preproc'`.\n",
    "\n",
    "For this we can use the same code as above. We only have to change the connection part:"
   ]
  },
  {
   "cell_type": "code",
   "execution_count": 8,
   "metadata": {
    "collapsed": false,
    "deletable": true,
    "editable": true
   },
   "outputs": [
    {
     "name": "stdout",
     "output_type": "stream",
     "text": [
      "170730-12:48:29,824 workflow INFO:\n",
      "\t Workflow preprocWF settings: ['check', 'execution', 'logging']\n",
      "170730-12:48:29,842 workflow INFO:\n",
      "\t Running serially.\n",
      "170730-12:48:29,844 workflow INFO:\n",
      "\t Executing node selectfiles in dir: /output/working_dir/preprocWF/selectfiles\n",
      "170730-12:48:29,890 workflow INFO:\n",
      "\t Executing node mcflirt in dir: /output/working_dir/preprocWF/mcflirt\n",
      "170730-12:48:29,933 workflow INFO:\n",
      "\t Running: mcflirt -in /data/ds000114/sub-01/ses-test/func/sub-01_ses-test_task-fingerfootlips_bold.nii.gz -meanvol -out /output/working_dir/preprocWF/mcflirt/sub-01_ses-test_task-fingerfootlips_bold_mcf.nii.gz -plots\n",
      "170730-12:49:45,294 workflow INFO:\n",
      "\t Executing node smooth in dir: /output/working_dir/preprocWF/smooth\n",
      "170730-12:49:45,340 workflow INFO:\n",
      "\t Running: fslmaths /output/working_dir/preprocWF/mcflirt/sub-01_ses-test_task-fingerfootlips_bold_mcf.nii.gz -s 1.69864 /output/working_dir/preprocWF/smooth/sub-01_ses-test_task-fingerfootlips_bold_mcf_smooth.nii.gz\n",
      "170730-12:49:54,83 workflow INFO:\n",
      "\t Executing node sinker in dir: /output/working_dir/preprocWF/sinker\n"
     ]
    },
    {
     "data": {
      "text/plain": [
       "<networkx.classes.digraph.DiGraph at 0x7f74d72149b0>"
      ]
     },
     "execution_count": 8,
     "metadata": {},
     "output_type": "execute_result"
    }
   ],
   "source": [
    "wf.connect([(smooth, sinker, [('out_file', 'preproc.@in_file')]),\n",
    "            (mcflirt, sinker, [('mean_img', 'preproc.@mean_img'),\n",
    "                               ('par_file', 'preproc.@par_file')]),\n",
    "            ])\n",
    "wf.run()"
   ]
  },
  {
   "cell_type": "markdown",
   "metadata": {
    "deletable": true,
    "editable": true
   },
   "source": [
    "Let's take a look at the new output folder structure:"
   ]
  },
  {
   "cell_type": "code",
   "execution_count": 9,
   "metadata": {},
   "outputs": [
    {
     "name": "stdout",
     "output_type": "stream",
     "text": [
      "/output/working_dir/preprocWF_output\r\n",
      "├── in_file\r\n",
      "│   └── sub-01_ses-test_task-fingerfootlips_bold_mcf_smooth.nii.gz\r\n",
      "├── mean_img\r\n",
      "│   └── sub-01_ses-test_task-fingerfootlips_bold_mcf.nii.gz_mean_reg.nii.gz\r\n",
      "├── par_file\r\n",
      "│   └── sub-01_ses-test_task-fingerfootlips_bold_mcf.nii.gz.par\r\n",
      "└── preproc\r\n",
      "    ├── sub-01_ses-test_task-fingerfootlips_bold_mcf.nii.gz.par\r\n",
      "    ├── sub-01_ses-test_task-fingerfootlips_bold_mcf.nii.gz_mean_reg.nii.gz\r\n",
      "    └── sub-01_ses-test_task-fingerfootlips_bold_mcf_smooth.nii.gz\r\n",
      "\r\n",
      "4 directories, 6 files\r\n"
     ]
    }
   ],
   "source": [
    "! tree /output/working_dir/preprocWF_output"
   ]
  },
  {
   "cell_type": "markdown",
   "metadata": {
    "deletable": true,
    "editable": true
   },
   "source": [
    "This is already much better. But what if you want to rename the output files to represent something a bit readable. For this `DataSink` has the `substitution` input field.\n",
    "\n",
    "For example, let's assume we want to get rid of the string `'task-fingerfootlips'` and `'bold_mcf'` and that we want to rename the mean file, as well as adapt the file ending of the motion parameter file:"
   ]
  },
  {
   "cell_type": "code",
   "execution_count": 10,
   "metadata": {
    "collapsed": false,
    "deletable": true,
    "editable": true
   },
   "outputs": [
    {
     "name": "stdout",
     "output_type": "stream",
     "text": [
      "170730-12:49:55,493 workflow INFO:\n",
      "\t Workflow preprocWF settings: ['check', 'execution', 'logging']\n",
      "170730-12:49:55,510 workflow INFO:\n",
      "\t Running serially.\n",
      "170730-12:49:55,511 workflow INFO:\n",
      "\t Executing node selectfiles in dir: /output/working_dir/preprocWF/selectfiles\n",
      "170730-12:49:55,567 workflow INFO:\n",
      "\t Executing node mcflirt in dir: /output/working_dir/preprocWF/mcflirt\n",
      "170730-12:49:55,579 workflow INFO:\n",
      "\t Collecting precomputed outputs\n",
      "170730-12:49:55,590 workflow INFO:\n",
      "\t Executing node smooth in dir: /output/working_dir/preprocWF/smooth\n",
      "170730-12:49:55,599 workflow INFO:\n",
      "\t Collecting precomputed outputs\n",
      "170730-12:49:55,622 workflow INFO:\n",
      "\t Executing node sinker in dir: /output/working_dir/preprocWF/sinker\n",
      "170730-12:49:55,670 interface INFO:\n",
      "\t sub: /output/working_dir/preprocWF_output/in_file/sub-01_ses-test_task-fingerfootlips_bold_mcf_smooth.nii.gz -> /output/working_dir/preprocWF_output/in_file/sub-01_smooth.nii.gz\n",
      "170730-12:49:55,677 interface INFO:\n",
      "\t sub: /output/working_dir/preprocWF_output/preproc/sub-01_ses-test_task-fingerfootlips_bold_mcf_smooth.nii.gz -> /output/working_dir/preprocWF_output/preproc/sub-01_smooth.nii.gz\n",
      "170730-12:49:55,684 interface INFO:\n",
      "\t sub: /output/working_dir/preprocWF_output/mean_img/sub-01_ses-test_task-fingerfootlips_bold_mcf.nii.gz_mean_reg.nii.gz -> /output/working_dir/preprocWF_output/mean_img/sub-01_mean.nii.gz\n",
      "170730-12:49:55,691 interface INFO:\n",
      "\t sub: /output/working_dir/preprocWF_output/par_file/sub-01_ses-test_task-fingerfootlips_bold_mcf.nii.gz.par -> /output/working_dir/preprocWF_output/par_file/sub-01.par\n",
      "170730-12:49:55,698 interface INFO:\n",
      "\t sub: /output/working_dir/preprocWF_output/preproc/sub-01_ses-test_task-fingerfootlips_bold_mcf.nii.gz_mean_reg.nii.gz -> /output/working_dir/preprocWF_output/preproc/sub-01_mean.nii.gz\n",
      "170730-12:49:55,704 interface INFO:\n",
      "\t sub: /output/working_dir/preprocWF_output/preproc/sub-01_ses-test_task-fingerfootlips_bold_mcf.nii.gz.par -> /output/working_dir/preprocWF_output/preproc/sub-01.par\n"
     ]
    },
    {
     "data": {
      "text/plain": [
       "<networkx.classes.digraph.DiGraph at 0x7f74d7203978>"
      ]
     },
     "execution_count": 10,
     "metadata": {},
     "output_type": "execute_result"
    }
   ],
   "source": [
    "# Define substitution strings\n",
    "substitutions = [('_task-fingerfootlips', ''),\n",
    "                 (\"_ses-test\", \"\"),\n",
    "                 ('_bold_mcf', ''),\n",
    "                 ('.nii.gz_mean_reg', '_mean'),\n",
    "                 ('.nii.gz.par', '.par')]\n",
    "\n",
    "# Feed the substitution strings to the DataSink node\n",
    "sinker.inputs.substitutions = substitutions\n",
    "\n",
    "# Run the workflow again with the substitutions in place\n",
    "wf.run()"
   ]
  },
  {
   "cell_type": "markdown",
   "metadata": {
    "deletable": true,
    "editable": true
   },
   "source": [
    "Now, let's take a final look at the output folder:"
   ]
  },
  {
   "cell_type": "code",
   "execution_count": 11,
   "metadata": {},
   "outputs": [
    {
     "name": "stdout",
     "output_type": "stream",
     "text": [
      "/output/working_dir/preprocWF_output\r\n",
      "├── in_file\r\n",
      "│   ├── sub-01_ses-test_task-fingerfootlips_bold_mcf_smooth.nii.gz\r\n",
      "│   └── sub-01_smooth.nii.gz\r\n",
      "├── mean_img\r\n",
      "│   ├── sub-01_mean.nii.gz\r\n",
      "│   └── sub-01_ses-test_task-fingerfootlips_bold_mcf.nii.gz_mean_reg.nii.gz\r\n",
      "├── par_file\r\n",
      "│   ├── sub-01.par\r\n",
      "│   └── sub-01_ses-test_task-fingerfootlips_bold_mcf.nii.gz.par\r\n",
      "└── preproc\r\n",
      "    ├── sub-01.par\r\n",
      "    ├── sub-01_mean.nii.gz\r\n",
      "    ├── sub-01_ses-test_task-fingerfootlips_bold_mcf.nii.gz.par\r\n",
      "    ├── sub-01_ses-test_task-fingerfootlips_bold_mcf.nii.gz_mean_reg.nii.gz\r\n",
      "    ├── sub-01_ses-test_task-fingerfootlips_bold_mcf_smooth.nii.gz\r\n",
      "    └── sub-01_smooth.nii.gz\r\n",
      "\r\n",
      "4 directories, 12 files\r\n"
     ]
    }
   ],
   "source": [
    "! tree /output/working_dir/preprocWF_output"
   ]
  },
  {
   "cell_type": "markdown",
   "metadata": {},
   "source": [
    "Cool, much more clearly!"
   ]
  }
 ],
 "metadata": {
  "anaconda-cloud": {},
  "kernelspec": {
   "display_name": "Python 3",
   "language": "python",
   "name": "python3"
  },
  "language_info": {
   "codemirror_mode": {
    "name": "ipython",
    "version": 3
   },
   "file_extension": ".py",
   "mimetype": "text/x-python",
   "name": "python",
   "nbconvert_exporter": "python",
   "pygments_lexer": "ipython3",
   "version": "3.6.2"
  }
 },
 "nbformat": 4,
 "nbformat_minor": 2
}
