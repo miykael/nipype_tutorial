{
 "cells": [
  {
   "cell_type": "markdown",
   "metadata": {},
   "source": [
    "# Memory caching\n",
    "\n",
    "In [Workflow notebook](basic_worflow.ipynb) you learnt about ``Workflows`` that specify processing by an execution graph and offer efficient recomputing. However, sometimes you might want to use ``Interfaces`` that gives better control of the execution of each step and can be easily combine with any Python code. Unfortunately, ``Interfaces`` do not offer any caching and you always dully recompute your task. \n",
    "\n",
    "Solution to this problem can be a ``caching`` mechanism supported by Nipype. Nipype caching relies on the ``Memory`` class and creates an execution context that is bound to a disk cache.\n",
    "When you instantiate the class you should provide ``base_dir`` and additional subdirectory called ``nipype_mem`` will be automatically created. "
   ]
  },
  {
   "cell_type": "code",
   "execution_count": 1,
   "metadata": {},
   "outputs": [],
   "source": [
    "from nipype.caching import Memory\n",
    "mem = Memory(base_dir='/output/workingdir')"
   ]
  },
  {
   "cell_type": "markdown",
   "metadata": {},
   "source": [
    "If we want to ask for caching for the ``BET`` interface, we can use ``cache`` method that takes interfaces classes as an argument."
   ]
  },
  {
   "cell_type": "code",
   "execution_count": 2,
   "metadata": {},
   "outputs": [],
   "source": [
    "from nipype.interfaces import fsl\n",
    "bet_mem = mem.cache(fsl.BET)"
   ]
  },
  {
   "cell_type": "markdown",
   "metadata": {},
   "source": [
    "Now, ``bet_mem`` can be applied as a function with inputs of the ``BET`` interface as the function arguments. Those inputs are given as keyword arguments, bearing the same name as the name in the inputs specs of the interface."
   ]
  },
  {
   "cell_type": "code",
   "execution_count": 3,
   "metadata": {},
   "outputs": [
    {
     "name": "stdout",
     "output_type": "stream",
     "text": [
      "170822-22:29:13,445 workflow INFO:\n",
      "\t Executing node 0cb4fbaf1687a0cccdf631a94c9deece in dir: /output/workingdir/nipype_mem/nipype-interfaces-fsl-preprocess-BET/0cb4fbaf1687a0cccdf631a94c9deece\n",
      "170822-22:29:13,495 workflow INFO:\n",
      "\t Running: bet /data/ds000114/sub-02/ses-test/anat/sub-02_ses-test_T1w.nii.gz /output/sub-02_T1w_brain.nii.gz -m\n"
     ]
    },
    {
     "data": {
      "text/plain": [
       "<nipype.interfaces.base.InterfaceResult at 0x7f6e1bdf6c88>"
      ]
     },
     "execution_count": 3,
     "metadata": {},
     "output_type": "execute_result"
    }
   ],
   "source": [
    "bet_mem(in_file=\"/data/ds000114/sub-02/ses-test/anat/sub-02_ses-test_T1w.nii.gz\",\n",
    "        out_file=\"/output/sub-02_T1w_brain.nii.gz\",\n",
    "        mask=True)"
   ]
  },
  {
   "cell_type": "markdown",
   "metadata": {},
   "source": [
    "As you can seen ``bet`` command was run as expected. We can now check the content of caching file:"
   ]
  },
  {
   "cell_type": "code",
   "execution_count": 4,
   "metadata": {},
   "outputs": [
    {
     "name": "stdout",
     "output_type": "stream",
     "text": [
      "total 4\r\n",
      "drwxr-xr-x 3 neuro users  102 Aug 10 01:59 log.2017\r\n",
      "-rw-r--r-- 1 neuro users 1050 Aug 22 22:29 log.current\r\n",
      "drwxr-xr-x 3 neuro users  102 Aug 22 22:29 nipype-interfaces-fsl-preprocess-BET\r\n"
     ]
    }
   ],
   "source": [
    "! ls -l /output/workingdir/nipype_mem"
   ]
  },
  {
   "cell_type": "markdown",
   "metadata": {},
   "source": [
    "A special subdirectory for our interface has been created. Let's try to run this command again:"
   ]
  },
  {
   "cell_type": "code",
   "execution_count": 5,
   "metadata": {},
   "outputs": [
    {
     "name": "stdout",
     "output_type": "stream",
     "text": [
      "170822-22:29:20,433 workflow INFO:\n",
      "\t Executing node 0cb4fbaf1687a0cccdf631a94c9deece in dir: /output/workingdir/nipype_mem/nipype-interfaces-fsl-preprocess-BET/0cb4fbaf1687a0cccdf631a94c9deece\n",
      "170822-22:29:20,453 workflow INFO:\n",
      "\t Collecting precomputed outputs\n"
     ]
    },
    {
     "data": {
      "text/plain": [
       "<nipype.interfaces.base.InterfaceResult at 0x7f6e1bdf61d0>"
      ]
     },
     "execution_count": 5,
     "metadata": {},
     "output_type": "execute_result"
    }
   ],
   "source": [
    "bet_mem(in_file=\"/data/ds000114/sub-02/ses-test/anat/sub-02_ses-test_T1w.nii.gz\",\n",
    "        out_file=\"/output/sub-02_T1w_brain.nii.gz\",\n",
    "        mask=True)"
   ]
  },
  {
   "cell_type": "markdown",
   "metadata": {},
   "source": [
    "Now, the ``bet`` command was not run, but  precomputed outputs were collected!\n",
    "\n",
    "If you created cached results that you're not going reuse, you can use [Memory.clear_runs_since()](http://nipy.org/nipype/0.10.0/users/caching_tutorial.html#nipype.caching.Memory.clear_runs_since) to flush the cache. Note, that if you use the method without any argument it will remove results used before current date, so will keep the results we've just calculated, let's check:"
   ]
  },
  {
   "cell_type": "code",
   "execution_count": 6,
   "metadata": {},
   "outputs": [
    {
     "name": "stdout",
     "output_type": "stream",
     "text": [
      "170822-22:29:28,408 workflow INFO:\n",
      "\t Executing node 0cb4fbaf1687a0cccdf631a94c9deece in dir: /output/workingdir/nipype_mem/nipype-interfaces-fsl-preprocess-BET/0cb4fbaf1687a0cccdf631a94c9deece\n",
      "170822-22:29:28,427 workflow INFO:\n",
      "\t Collecting precomputed outputs\n"
     ]
    },
    {
     "data": {
      "text/plain": [
       "<nipype.interfaces.base.InterfaceResult at 0x7f6e1bdf6c18>"
      ]
     },
     "execution_count": 6,
     "metadata": {},
     "output_type": "execute_result"
    }
   ],
   "source": [
    "mem.clear_runs_since()\n",
    "bet_mem(in_file=\"/data/ds000114/sub-02/ses-test/anat/sub-02_ses-test_T1w.nii.gz\",\n",
    "        out_file=\"/output/sub-02_T1w_brain.nii.gz\",\n",
    "        mask=True)"
   ]
  },
  {
   "cell_type": "markdown",
   "metadata": {},
   "source": [
    "As you can see, Nipype again collected the old results. If we want to remove everything, we have to put some future date:"
   ]
  },
  {
   "cell_type": "code",
   "execution_count": 7,
   "metadata": {},
   "outputs": [
    {
     "name": "stdout",
     "output_type": "stream",
     "text": [
      "removing directory: /output/workingdir/nipype_mem/nipype-interfaces-fsl-preprocess-BET\n"
     ]
    }
   ],
   "source": [
    "mem.clear_runs_since(year=2020, month=1, day=1)"
   ]
  },
  {
   "cell_type": "markdown",
   "metadata": {},
   "source": [
    "You can also check [Memory.clear_runs_since()](http://nipy.org/nipype/0.10.0/users/caching_tutorial.html#nipype.caching.Memory.clear_runs_since)."
   ]
  }
 ],
 "metadata": {
  "kernelspec": {
   "display_name": "Python 3",
   "language": "python",
   "name": "python3"
  },
  "language_info": {
   "codemirror_mode": {
    "name": "ipython",
    "version": 3
   },
   "file_extension": ".py",
   "mimetype": "text/x-python",
   "name": "python",
   "nbconvert_exporter": "python",
   "pygments_lexer": "ipython3",
   "version": "3.6.2"
  }
 },
 "nbformat": 4,
 "nbformat_minor": 2
}
